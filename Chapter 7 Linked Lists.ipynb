{
 "cells": [
  {
   "cell_type": "markdown",
   "metadata": {},
   "source": [
    "# Chapter 7: Linked Lists"
   ]
  },
  {
   "cell_type": "markdown",
   "metadata": {},
   "source": [
    "* a singly linked list is a data structure that contains a sequence of nodes such that each node contains an object and a reference to the next node in the list\n",
    "* head - first node\n",
    "* tail - last node (next field is null)\n",
    "* doublely linked lists have a pointer to the preceeding node as well as the next node"
   ]
  },
  {
   "cell_type": "markdown",
   "metadata": {},
   "source": [
    "**Complexity Considerations**\n",
    "* Inserting and Deleting elements has time complexity O(1)\n",
    "* Obtaining the kth element has time complexity O(n)"
   ]
  },
  {
   "cell_type": "markdown",
   "metadata": {},
   "source": [
    "**Linked List Boot Camp**\n",
    "* Basic linked list API:\n",
    "    * search_list\n",
    "    * insert_after\n",
    "    * delete_after\n",
    "* while insert and delete are O(1) searching for the node after which to insert delete can be O(n)\n",
    "\n",
    "\n",
    "* List problems often have a brute-force O(n) space solution and a subtler O(1) solution\n",
    "* Problems are often conceptually simple but more about cleaning coding \n",
    "* Consider using a dummy head (sentinel) to avoid having to check for empty lists. This simplifies code and makes bugs less likely\n",
    "* It's easy to forget to update next for the head and tail\n",
    "* Algorithms on singly linked lists often benefit from using 2 iterators, one ahead of the other, or one advancing quicker than the other"
   ]
  },
  {
   "cell_type": "markdown",
   "metadata": {},
   "source": [
    "problems to do: 7.1, 7.2, 7.3, 7.4 done/continue here ->  7.7, 7.10, 7.11"
   ]
  },
  {
   "cell_type": "markdown",
   "metadata": {},
   "source": [
    "Prereq: Build a linked list node and linked list class with some basics"
   ]
  },
  {
   "cell_type": "code",
   "execution_count": 1,
   "metadata": {
    "collapsed": false
   },
   "outputs": [],
   "source": [
    "class ListNode:\n",
    "    def __init__(self, data=0, next_node=None):\n",
    "        self.data = data\n",
    "        self.next = next_node\n",
    "    \n",
    "    def get_next(self):\n",
    "        return self.next\n",
    "    \n",
    "    def set_next(self,next_node):\n",
    "        self.next = next_node\n",
    "    \n",
    "    def get_data(self):\n",
    "        return self.data"
   ]
  },
  {
   "cell_type": "code",
   "execution_count": 2,
   "metadata": {
    "collapsed": true
   },
   "outputs": [],
   "source": [
    "class LinkedList():\n",
    "    def __init__(self, head=None):\n",
    "        self.head = head\n",
    "        self.tail = head\n",
    "    \n",
    "    @classmethod\n",
    "    def from_list(cls, input_list):\n",
    "        \"\"\"Instantiate linked list from regular list.\"\"\"\n",
    "        llist = cls()\n",
    "        for value in reversed(input_list):\n",
    "            llist.insert_at_head(ListNode(value))\n",
    "        return llist\n",
    "    \n",
    "    def to_list(self):\n",
    "        \"\"\"Return linked list as regular list. O(N) operation.\"\"\"\n",
    "        ret = []\n",
    "        next_node = self.get_head()\n",
    "        while next_node:\n",
    "            ret.append(next_node.get_data())\n",
    "            next_node = next_node.get_next()\n",
    "        return ret\n",
    "    \n",
    "    def insert_at_head(self, new_node):\n",
    "        if self.head:\n",
    "            new_node.set_next(self.get_head())\n",
    "        self.set_head(new_node)\n",
    "        if not self.head.get_next():\n",
    "            self.set_tail(self.get_head())\n",
    "    \n",
    "    def insert_at_tail(self, new_node):\n",
    "        if self.tail:\n",
    "            self.get_tail().set_next(new_node)\n",
    "            self.set_tail(new_node)\n",
    "        else:\n",
    "            self.set_head(new_node)\n",
    "            self.set_tail(new_node)\n",
    "        \n",
    "    def get_head(self):\n",
    "        return self.head\n",
    "    \n",
    "    def set_head(self, new_head):\n",
    "        self.head = new_head\n",
    "    \n",
    "    def get_tail(self):\n",
    "        return self.tail\n",
    "    \n",
    "    def set_tail(self, new_tail):\n",
    "        self.tail = new_tail"
   ]
  },
  {
   "cell_type": "markdown",
   "metadata": {},
   "source": [
    "## 7.1 Merge Two Sorted Lists\n",
    "Write a program that takes 2 lists, assumed to be sorted (ascending), and returns their merge. The only field your program can change in a node is its next field"
   ]
  },
  {
   "cell_type": "code",
   "execution_count": 3,
   "metadata": {
    "collapsed": false
   },
   "outputs": [],
   "source": [
    "def merge_sorted(l1, l2):\n",
    "    dummy_head = current = LinkedList(ListNode(0))\n",
    "    l1_next = l1.get_head()\n",
    "    l2_next = l2.get_head()\n",
    "    \n",
    "    while l1_next and l2_next:\n",
    "        if l1_next.get_data() >= l2_next.get_data():\n",
    "            current.next, l2_next = l2_next, l2_next.next\n",
    "        else:\n",
    "            current.next, l1_next = l1_next, l1_next.next\n",
    "        current = current.next\n",
    "    current.next = l1_next or l2_next\n",
    "    return LinkedList(dummy_head.next)\n",
    "\n",
    "assert(merge_sorted(LinkedList.from_list([2,5,7]), LinkedList.from_list([3,11])).to_list() == [2, 3, 5, 7, 11])\n",
    "assert(merge_sorted(LinkedList.from_list([2,5,7,7,9,11,13]), \n",
    "                    LinkedList.from_list([3,5,9,11])).to_list() == [2, 3, 5, 5, 7, 7, 9, 9, 11, 11, 13])\n",
    "assert(merge_sorted(LinkedList.from_list([2,5,7]), LinkedList.from_list([1,3,11])).to_list() == [1,2, 3, 5, 7, 11])"
   ]
  },
  {
   "cell_type": "markdown",
   "metadata": {},
   "source": [
    "## 7.2 Reverse a single sublist\n",
    "Write a program which takes a singly linked list L and 2 integers s and f as arguments, and reverses the order of the nodes from the sth node to the fth node, inclusive. Numbering begins at 1, i.e., the head node is the first node. Do not allocate additional nodes."
   ]
  },
  {
   "cell_type": "code",
   "execution_count": 4,
   "metadata": {
    "collapsed": false
   },
   "outputs": [],
   "source": [
    "def reverse_sublist(L, s, f):\n",
    "    \"\"\"\n",
    "    L is a singly linked list\n",
    "    s is an int indicating the starting node in the sublist to reverse\n",
    "    f is an int indicating the ending node in the sublist to reverse\n",
    "    return the full linked list with the sublist reversed\n",
    "    \"\"\"\n",
    "    dummy_head = pre_node = ListNode(0,L.head)\n",
    "    for i in range(1,s):\n",
    "        pre_node = pre_node.next\n",
    "    start_node = pre_node.next\n",
    "    for i in range(s,f):\n",
    "        tmp = start_node.next\n",
    "        start_node.next, tmp.next, pre_node.next = (\n",
    "            tmp.next, pre_node.next, tmp)\n",
    "    return LinkedList(dummy_head.next)\n",
    "      \n",
    "\n",
    "assert(LinkedList.to_list(reverse_sublist(LinkedList.from_list([1,2,3,4,5,6,7,8]),2,5)) == [1, 5, 4, 3, 2, 6, 7, 8])\n",
    "assert(LinkedList.to_list(reverse_sublist(LinkedList.from_list([1,2,3,4,5,6,7,8]),1,5)) == [5, 4, 3, 2, 1, 6, 7, 8])\n",
    "assert(LinkedList.to_list(reverse_sublist(LinkedList.from_list([1,2,3,4,5,6,7,8,9,10,11]),5,11)) == [1, 2, 3, 4, 11, 10, 9, 8, 7, 6, 5])\n",
    "    "
   ]
  },
  {
   "cell_type": "markdown",
   "metadata": {},
   "source": [
    "## 7.3 Test for Cyclicity\n",
    "Write a program that takes the head of a singly linked list and returns null if there does not exist a cycle, and the node at the start of the cycle, if a cycle is present"
   ]
  },
  {
   "cell_type": "code",
   "execution_count": 21,
   "metadata": {
    "collapsed": false
   },
   "outputs": [],
   "source": [
    "def find_cycle_length(n1):\n",
    "    \"\"\"\n",
    "    n1: a node in the cycle\n",
    "    return: length of the cycle\n",
    "    \"\"\"\n",
    "    n1_move = n1.next\n",
    "    i = 1\n",
    "    while n1_move != n1:\n",
    "        i += 1\n",
    "        n1_move = n1_move.next\n",
    "    return i\n",
    "    \n",
    "def detect_cycles(L):\n",
    "    slow = L.head\n",
    "    fast = L.head.next.next\n",
    "    cycle = False\n",
    "    i = 0\n",
    "    while slow and fast.next and fast.next.next:\n",
    "        i += 1\n",
    "        #print slow.data\n",
    "        #print fast.data\n",
    "        slow = slow.next\n",
    "        fast = fast.next.next\n",
    "        if slow == fast:\n",
    "            cycle = True\n",
    "            break\n",
    "    if not cycle:\n",
    "        return None\n",
    "    cycle_len = find_cycle_length(slow)\n",
    "    fast = L.head\n",
    "    for i in range(0,cycle_len):\n",
    "        fast = fast.next\n",
    "    slow = L.head\n",
    "    while slow != fast:\n",
    "        slow = slow.next\n",
    "        fast = fast.next\n",
    "    return fast.data\n",
    "\n",
    "ll = LinkedList.from_list([1,2,3,4,5])\n",
    "assert(detect_cycles(ll) == None)\n",
    "\n",
    "ll = LinkedList.from_list([1,2,3,4,5])\n",
    "ll.insert_at_tail(ll.head)\n",
    "assert(detect_cycles(ll) == 1)\n",
    "\n",
    "ll = LinkedList.from_list([1,2,3,4,5])\n",
    "ll.insert_at_tail(ll.head.next)\n",
    "assert(detect_cycles(ll) == 2)\n",
    "\n",
    "ll = LinkedList.from_list([1,2,3,4,5])\n",
    "ll.insert_at_tail(ll.head.next.next)\n",
    "assert(detect_cycles(ll) == 3)"
   ]
  },
  {
   "cell_type": "code",
   "execution_count": null,
   "metadata": {
    "collapsed": true
   },
   "outputs": [],
   "source": []
  }
 ],
 "metadata": {
  "anaconda-cloud": {},
  "kernelspec": {
   "display_name": "Python [Root]",
   "language": "python",
   "name": "Python [Root]"
  },
  "language_info": {
   "codemirror_mode": {
    "name": "ipython",
    "version": 2
   },
   "file_extension": ".py",
   "mimetype": "text/x-python",
   "name": "python",
   "nbconvert_exporter": "python",
   "pygments_lexer": "ipython2",
   "version": "2.7.12"
  }
 },
 "nbformat": 4,
 "nbformat_minor": 0
}
