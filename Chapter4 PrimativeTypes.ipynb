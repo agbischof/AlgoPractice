{
 "cells": [
  {
   "cell_type": "markdown",
   "metadata": {},
   "source": [
    "# Chapter 4: Primative Types"
   ]
  },
  {
   "cell_type": "markdown",
   "metadata": {},
   "source": [
    "## 4.1 Computing the Parity of a Word"
   ]
  },
  {
   "cell_type": "markdown",
   "metadata": {},
   "source": [
    "Using bitwise operators, equality checks, and boolean operators do the following in O(1) time\n",
    "### Right propagate the rightmost set bit in x\n",
    "(e.g. turn 01010000 to 01011111)"
   ]
  },
  {
   "cell_type": "code",
   "execution_count": 65,
   "metadata": {
    "collapsed": false
   },
   "outputs": [],
   "source": [
    "def right_propagate(value):\n",
    "    return value | value - 1\n",
    "\n",
    "assert(right_propagate(0b01010000) == 0b01011111)\n",
    "assert(right_propagate(0b1011000) == 0b1011111)\n",
    "assert(right_propagate(0b11110000) == 0b11111111)\n",
    "assert(right_propagate(0b1110000) == 0b1111111)\n",
    "assert(right_propagate(0b11000000) == 0b11111111)\n",
    "assert(right_propagate(0b10000) == 0b11111)"
   ]
  },
  {
   "cell_type": "markdown",
   "metadata": {},
   "source": [
    "### Compute x mod a power of two \n",
    "(e.g. returns 13 for 77 mod 64)"
   ]
  },
  {
   "cell_type": "code",
   "execution_count": 88,
   "metadata": {
    "collapsed": false
   },
   "outputs": [],
   "source": [
    "def mod_pwr2(value, pwr2):\n",
    "    return value & (pwr2 - 1)\n",
    "\n",
    "assert(mod_pwr2(0b101101, 0b100000) == 13)\n",
    "assert(mod_pwr2(0b101100, 0b10000) == 12)\n",
    "assert(mod_pwr2(0b101,0b100) == 1)\n",
    "assert(mod_pwr2(0b101,0b010) == 1)\n",
    "assert(mod_pwr2(0b1101,0b100) == 1)\n",
    "assert(mod_pwr2(0b11111,0b100) == 3)"
   ]
  },
  {
   "cell_type": "markdown",
   "metadata": {},
   "source": [
    "### Test if x is a power of 2 \n",
    "(i.e. evaluates to true for x = 1,2,4,8, false for all other values)"
   ]
  },
  {
   "cell_type": "code",
   "execution_count": 36,
   "metadata": {
    "collapsed": false
   },
   "outputs": [],
   "source": [
    "def is_power(value):\n",
    "    if value:\n",
    "        value &= value - 1\n",
    "        if value == 0:\n",
    "            return True\n",
    "    return False\n",
    "\n",
    "assert(is_power(0b0) == False)\n",
    "assert(is_power(0b1) == True)\n",
    "assert(is_power(0b10) == True)\n",
    "assert(is_power(0b11) == False)\n",
    "assert(is_power(0b100) == True)\n",
    "assert(is_power(0b101) == False)\n",
    "assert(is_power(0b110) == False)\n",
    "assert(is_power(0b1000) == True)"
   ]
  },
  {
   "cell_type": "markdown",
   "metadata": {},
   "source": [
    "## 4.4 Find a closest integer with the same weight\n",
    "Define the weight of a nonnegative integer x to be the number of bits that are set to 1 in its binary representation. For example, since 92 in base-2 equals (1011100) the weight of 92 is 4. \n",
    "\n",
    "Write a program which takes as input a nonnegative integer x and returns a number y which is not equal to x, but has the same weight as x and their difference (abs) is as small as possible. Assume x is not 0 and is not all 1s. if x = 6 (0b110) you should return 5 (0b101)"
   ]
  },
  {
   "cell_type": "code",
   "execution_count": 91,
   "metadata": {
    "collapsed": false
   },
   "outputs": [
    {
     "name": "stdout",
     "output_type": "stream",
     "text": [
      "5\n"
     ]
    }
   ],
   "source": [
    "def swap_bits(integer, i, j):\n",
    "    #Extract the ith and jth bits and see if they differ\n",
    "    if (integer >> i) & 1 != (integer >> j) & 1:\n",
    "        bit_mask = (1 << i) | (1 << j)\n",
    "        x ^= bit_mask\n",
    "    return x\n",
    "\n",
    "def closest_int(x):\n",
    "    #swap a 0 and 1 that are closest to the right\n",
    "    num_unsigned_bits = 64\n",
    "    for i in range(num_unsigned_bits -1):\n",
    "        if (x >> i) & 1 != (x >> i+1) &1:\n",
    "            x ^= (1 << i) | (1 << i+1)\n",
    "            return x\n",
    "    raise ValueError('All bits are 0 or 1')\n",
    "    \n",
    "print closest_int(0b110)"
   ]
  },
  {
   "cell_type": "markdown",
   "metadata": {},
   "source": [
    "## 4.7 Compute x^y\n",
    "Write a program that take a double x and an integer y and returns x^y You can ignore overflow and underflow"
   ]
  },
  {
   "cell_type": "code",
   "execution_count": 118,
   "metadata": {
    "collapsed": false
   },
   "outputs": [
    {
     "name": "stdout",
     "output_type": "stream",
     "text": [
      "carry: 2\n",
      "pos: 0\n",
      "after carry: 1\n",
      "summ: 0b1\n",
      "carry: 3\n",
      "pos: 1\n",
      "after carry: 2\n",
      "summ: 0b11\n",
      "carry: 4\n",
      "pos: 2\n",
      "after carry: 3\n",
      "summ: 0b111\n",
      "carry: 3\n",
      "pos: 3\n",
      "after carry: 2\n",
      "summ: 0b1111\n",
      "carry: 2\n",
      "pos: 4\n",
      "after carry: 1\n",
      "summ: 0b11111\n",
      "carry: 1\n",
      "pos: 5\n",
      "after carry: 0\n",
      "summ: 0b111111\n",
      "63\n",
      "13\n"
     ]
    }
   ],
   "source": [
    "#still not working\n",
    "def add(int1, int2):\n",
    "    summ = 0\n",
    "    carry = 0\n",
    "    pos = 0\n",
    "    while int1 >> pos | int2 >> pos | carry > 0:\n",
    "        print \"carry: \" + str(carry)\n",
    "        print \"pos: \" + str(pos)\n",
    "        total = carry + ((int1 >> pos) & 0b1) + ((int2 >> pos) & 0b1)\n",
    "        if  == 1:\n",
    "            summ = summ | 0b1 << pos\n",
    "        elif ((int1 >> pos) & 0b1) + ((int2 >> pos) & 0b1) == 2:\n",
    "            carry = 1\n",
    "            \n",
    "        print \"after carry: \" + str(carry)\n",
    "        print \"summ: \" + bin(summ)\n",
    "\n",
    "        pos += 1\n",
    "    return summ\n",
    "\n",
    "#print add(0b1, 0b100)\n",
    "#print 0b1 + 0b100\n",
    "\n",
    "#print add(0b1111111, 0b1011110)\n",
    "#print 0b1111111 + 0b1011110\n",
    "\n",
    "print add(0b111, 0b111)\n",
    "print 0b111 + 0b110\n",
    "\n",
    "\n",
    "\n",
    "def multiply(int1, int2):\n",
    "    mult = 0b0\n",
    "    #while int2:\n",
    "        #mult = add(mult, int2 & 0b1)  \n",
    "    return int1\n",
    "\n",
    "def power(integer, power):\n",
    "    return integer"
   ]
  },
  {
   "cell_type": "markdown",
   "metadata": {},
   "source": [
    "##  4.8 Reverse Digits\n",
    "Write a program which takes an integer and returns the integer corresponding to the digits of the input written in reverse order. For example, the reverse of 42 is 24, and the reverse of -314 is -413"
   ]
  },
  {
   "cell_type": "code",
   "execution_count": null,
   "metadata": {
    "collapsed": true
   },
   "outputs": [],
   "source": []
  },
  {
   "cell_type": "markdown",
   "metadata": {},
   "source": [
    "## 4.9 Check if a decimal integer is a Palindrome\n",
    "A palindromic string is one which reads the same forwards and backwards. In this problem you are to write a program which determines if the decimal representation of an integer is a palindromic string. For example, your program should return true for inputs 0,1,7,11,121,33, and 2147447412, and false for inputs -1, 12, 100, and 2137483647. \n",
    "\n",
    "Write a program that takes an integer and determines if that integer's representation as a decimal string is a palindrome."
   ]
  },
  {
   "cell_type": "code",
   "execution_count": null,
   "metadata": {
    "collapsed": true
   },
   "outputs": [],
   "source": []
  },
  {
   "cell_type": "markdown",
   "metadata": {},
   "source": [
    "## 4.11 Rectangle intersection\n",
    "This problem is concerned with rectangles whose sides are parallel to the X-axis and Y-axis. Write a program which tests if two rectangles have a nonempty intersection. If the intersection is nonempty, return the rectangle formed by their intersection."
   ]
  },
  {
   "cell_type": "code",
   "execution_count": null,
   "metadata": {
    "collapsed": true
   },
   "outputs": [],
   "source": []
  }
 ],
 "metadata": {
  "anaconda-cloud": {},
  "kernelspec": {
   "display_name": "Python [gl-env]",
   "language": "python",
   "name": "Python [gl-env]"
  },
  "language_info": {
   "codemirror_mode": {
    "name": "ipython",
    "version": 2
   },
   "file_extension": ".py",
   "mimetype": "text/x-python",
   "name": "python",
   "nbconvert_exporter": "python",
   "pygments_lexer": "ipython2",
   "version": "2.7.12"
  }
 },
 "nbformat": 4,
 "nbformat_minor": 0
}
