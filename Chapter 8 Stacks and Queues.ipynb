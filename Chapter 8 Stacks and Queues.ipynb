{
 "cells": [
  {
   "cell_type": "markdown",
   "metadata": {},
   "source": [
    "# Chapter 8: Stacks and Queues"
   ]
  },
  {
   "cell_type": "markdown",
   "metadata": {},
   "source": [
    "Stacks support last in, first out semantics for inserts and deletes, while queues are first-in first-out."
   ]
  },
  {
   "cell_type": "markdown",
   "metadata": {},
   "source": [
    "## Stacks\n",
    "operations supported by stacks - push (add) and pop (remove), empty stacks pop null or throw an error\n",
    "\n",
    "Linked list and array impelemntations both have O(1) time complexity for these operations, as long as arrays have a fixed length\n",
    "Array implementations can have an additional peek operation (look at element but don't remove)\n",
    "\n",
    "What are they good for?\n",
    "creating reverse iterators for sequences that would be difficult to step back from a given element (for example a singly linked list)\n",
    "\n",
    "Learn to recognize when the LIFO property is helpful, for example parsing"
   ]
  },
  {
   "cell_type": "markdown",
   "metadata": {},
   "source": [
    "## Queues\n",
    "A queue supports 2 basic operations -- enqueue (add) and dequeue (remove) -- in a first-in first-out order. The most recently inserted element is the tail. "
   ]
  },
  {
   "cell_type": "markdown",
   "metadata": {},
   "source": [
    "### 8.1 Implement a Stack with Max API\n",
    "Design a stack that includes a max operation, in addition to a push and pop. The max method should return the maximum value stored in the stack."
   ]
  },
  {
   "cell_type": "code",
   "execution_count": 21,
   "metadata": {
    "collapsed": true
   },
   "outputs": [],
   "source": [
    "class stack():\n",
    "    def __init__(self):\n",
    "        self.stack_list, self.maximum, self.count = [], [], []\n",
    "    \n",
    "    def empty(self):\n",
    "        return (len(self.stack_list) == 0)\n",
    "    \n",
    "    def push(self,new_element):\n",
    "        if self.empty() or self.get_max() < new_element:\n",
    "            self.maximum.append(new_element)\n",
    "            self.count.append(1)\n",
    "        elif self.get_max() == new_element:\n",
    "            self.count[-1] += 1\n",
    "        self.stack_list.append(new_element)\n",
    "\n",
    "    \n",
    "    def pop(self):\n",
    "        if self.empty():\n",
    "            return None \n",
    "        if self.stack_list[-1] == self.get_max():\n",
    "            self.count[-1] -= 1\n",
    "            if self.count[-1] == 0:\n",
    "                self.count.pop()\n",
    "                self.maximum.pop()    \n",
    "        return self.stack_list.pop()\n",
    "    \n",
    "    def get_max(self):\n",
    "        if self.empty():\n",
    "            return None\n",
    "        return self.maximum[-1]\n",
    "\n",
    "a = stack()\n",
    "assert(a.empty() == True)\n",
    "assert(a.get_max() == None)\n",
    "a.push(1)\n",
    "assert(a.get_max() == 1)\n",
    "assert(a.pop() == 1)\n",
    "assert(a.get_max() == None)\n",
    "assert(a.pop() == None)\n",
    "\n",
    "a.push(1)\n",
    "a.push(2)\n",
    "a.push(3)\n",
    "assert(a.get_max() == 3)\n",
    "a.push(1)\n",
    "assert(a.get_max() == 3)\n",
    "assert(a.pop() == 1)\n",
    "assert(a.get_max() == 3)\n",
    "assert(a.pop() == 3)\n",
    "assert(a.get_max() == 2)"
   ]
  },
  {
   "cell_type": "markdown",
   "metadata": {},
   "source": [
    "### 8.2 Evaluate an RPN Expression\n",
    "Write a program that takes an arithmetical expression in RPN and returns the number that the expression evaluates to. For example \"1729\" -> 1729 \"3,4,+,2x1+\" -> 15 or \"1,1,+,-2,x\" -> -4 or \"-641,6,/,28,/\" = 4"
   ]
  },
  {
   "cell_type": "code",
   "execution_count": 32,
   "metadata": {
    "collapsed": true
   },
   "outputs": [],
   "source": [
    "import operator\n",
    "def eval_rpn(rpn):\n",
    "    ops = {\n",
    "        \"+\": lambda y, x: y + x , \n",
    "        \"-\": lambda y, x: x - y,\n",
    "        \"/\": lambda y, x: x / y,\n",
    "        \"*\": lambda y, x: y * x\n",
    "    }\n",
    "    result = []\n",
    "    for element in rpn.split(\",\"):\n",
    "        if element in ops:\n",
    "            result.append(ops[element](result.pop(), result.pop()))\n",
    "        else:\n",
    "            result.append(int(element))\n",
    "    return result.pop()\n",
    "\n",
    "assert(eval_rpn(\"3\") == 3)\n",
    "assert(eval_rpn(\"3,4,+\") == 7)\n",
    "assert(eval_rpn(\"3,4,+,2,*\") == 14)\n",
    "assert(eval_rpn(\"3,4,+,2,*,1,+\") == 15)\n",
    "assert(eval_rpn(\"-641\") == -641)\n",
    "assert(eval_rpn(\"-641,6,/\") == -107)\n",
    "assert(eval_rpn(\"-641,6,/,28,/\") == -4)\n",
    "assert(eval_rpn(\"-641,6,/,28,/,-5,-\") == 1)"
   ]
  },
  {
   "cell_type": "markdown",
   "metadata": {
    "collapsed": true
   },
   "source": [
    "### 8.7  Compute Binary Tree Nodes in order of Increasing Depth\n",
    "A binary tree has a depth, which is the distance to the root. \n",
    "Given a binary tree, return an array consisting of the keys at the same level. Keys should appear in the order of the corresponding nodes' depths, breaking ties from left to right. For example "
   ]
  },
  {
   "cell_type": "code",
   "execution_count": null,
   "metadata": {
    "collapsed": true
   },
   "outputs": [],
   "source": []
  },
  {
   "cell_type": "markdown",
   "metadata": {},
   "source": [
    "### 8.8 Implement a Circular Queue\n",
    "A queue can be implemented using an array and two additional fields, the beginning and the end indicies. This structure is sometimes referred to as a circular queue. Both enqueue and dequeue have O(1) time complexity. If the array is fixed, there is a max numbrer of entries that can be stored. If the array is dynamically resized, the total time for m combined enqueue and dequeue operations is O(m). \n",
    "\n",
    "Implement a queue API using an array for storing elements. Your API should include a constructor function, which takes as arguments the initial capaicty of the queue, enqueue and dequeue functions, and a function which returns the number of elements stored. Implement dynamic resizing to support storing an arbitrarily large number of elements"
   ]
  },
  {
   "cell_type": "code",
   "execution_count": 45,
   "metadata": {},
   "outputs": [],
   "source": [
    "class circ_queue():\n",
    "    def __init__(self, capacity):\n",
    "        self.capacity = capacity\n",
    "        self.list = [None] * self.capacity\n",
    "        self.start = 0\n",
    "        self.end = 0\n",
    "        \n",
    "    def enqueue(self, new):\n",
    "        if self.length() >= self.capacity:\n",
    "            self.double_capacity()\n",
    "        self.list[self.actual_index(self.end, self.capacity)] = new\n",
    "        self.end += 1\n",
    "    \n",
    "    def dequeue(self):\n",
    "        if (self.start != self.end):\n",
    "            self.start += 1\n",
    "            return self.list[self.actual_index(self.start, self.capacity) - 1]\n",
    "        else:\n",
    "            return None\n",
    "    \n",
    "    def length(self):\n",
    "        return self.end - self.start\n",
    "\n",
    "    def double_capacity(self):\n",
    "        self.list = (self.list[self.actual_index(self.start, self.capacity):] + \n",
    "                     self.list[0:self.actual_index(self.start, self.capacity)] + \n",
    "                     [None] * self.capacity)\n",
    "        self.start = 0\n",
    "        self.end = self.capacity\n",
    "        self.capacity *= 2\n",
    "    \n",
    "    def actual_index(self, index, capacity):\n",
    "        return index % capacity\n",
    "        \n",
    "a = circ_queue(3)\n",
    "a.enqueue(1)\n",
    "a.enqueue(2)\n",
    "assert(a.length() == 2)\n",
    "assert(a.dequeue() == 1)\n",
    "assert(a.dequeue() == 2)\n",
    "assert(a.length() == 0)\n",
    "assert(a.dequeue() == None)\n",
    "\n",
    "a.enqueue(3)\n",
    "a.enqueue(4)\n",
    "a.enqueue(5)\n",
    "assert(a.length() == 3)\n",
    "assert(a.dequeue() == 3)\n",
    "assert(a.length() == 2)\n",
    "a.enqueue(6)\n",
    "a.enqueue(7)\n",
    "assert(a.length() == 4)\n",
    "a.enqueue(8)\n",
    "a.enqueue(9)\n",
    "assert(a.dequeue() == 4)\n",
    "\n",
    "b = circ_queue(3)\n",
    "b.enqueue(1)\n",
    "b.enqueue(2)\n",
    "assert(b.dequeue() == 1)\n",
    "b.enqueue(3)\n",
    "assert(b.dequeue() == 2)\n",
    "b.enqueue(4)\n",
    "b.enqueue(5)\n",
    "assert(b.dequeue() == 3)\n",
    "b.enqueue(6)\n",
    "assert(b.dequeue() == 4)\n"
   ]
  },
  {
   "cell_type": "code",
   "execution_count": null,
   "metadata": {
    "collapsed": true
   },
   "outputs": [],
   "source": []
  }
 ],
 "metadata": {
  "kernelspec": {
   "display_name": "Python 2",
   "language": "python",
   "name": "python2"
  },
  "language_info": {
   "codemirror_mode": {
    "name": "ipython",
    "version": 2
   },
   "file_extension": ".py",
   "mimetype": "text/x-python",
   "name": "python",
   "nbconvert_exporter": "python",
   "pygments_lexer": "ipython2",
   "version": "2.7.13"
  }
 },
 "nbformat": 4,
 "nbformat_minor": 1
}
