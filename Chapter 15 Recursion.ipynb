{
 "cells": [
  {
   "cell_type": "markdown",
   "metadata": {},
   "source": [
    "# Chapter 15: Recursion"
   ]
  },
  {
   "cell_type": "markdown",
   "metadata": {},
   "source": [
    "Recursion is an approach to problem solving where the solution depends partially on a solution to smaller instances of a related problem. Examples: \n",
    "* searching\n",
    "* enumeration\n",
    "* divide and conquer\n",
    "* decomposing a complex problem into a set of similar smaller instances\n",
    "\n",
    "\n",
    "A recursive function consists of base cases and calls to the same function with different arguments. Keys:\n",
    "* identify the base cases - to be solved directly\n",
    "* ensure progress - ensure it converges to the solution"
   ]
  },
  {
   "cell_type": "markdown",
   "metadata": {},
   "source": [
    "**Top Tips**\n",
    "Recursion is especially suitable when the input is expressed using recursive rues such as a computer grammar.\n",
    "\n",
    "Recursion is a good choice for search, enumeration, and divide and conquer.\n",
    "\n",
    "Use recursion as an alternative to deeply nested iteration loops. \n",
    "\n",
    "If you need to replace recursion consider using a stack or a while loop if tail-recursive\n",
    "\n",
    "Cache results if likely to call the recursive function with the same arguments more than once - see dynamic programming."
   ]
  },
  {
   "cell_type": "markdown",
   "metadata": {},
   "source": [
    "## Problems"
   ]
  },
  {
   "cell_type": "markdown",
   "metadata": {},
   "source": [
    "### 15.1 The Towers of Hanoi Problem"
   ]
  },
  {
   "cell_type": "markdown",
   "metadata": {},
   "source": [
    "A peg contains rings in sorted order, with the largest ring being the lowest. You are to transfer these rings to another peg, which is initially empty. \n",
    "\n",
    "Write a program which prints a sequence of operations that transfers n rings from one peg to another. You have a third peg, which is initially empty. The only operation you can perform is taking a single ring from the top of one peg and placing it on the top of another peg. You must never place a larger ring above a smaller ring."
   ]
  },
  {
   "cell_type": "code",
   "execution_count": 38,
   "metadata": {
    "collapsed": false
   },
   "outputs": [
    {
     "name": "stdout",
     "output_type": "stream",
     "text": [
      "[[3, 2, 1], [], []]\n",
      "Move from peg  0  to peg 1\n",
      "[[3, 2], [1], []]\n",
      "Move from peg  0  to peg 2\n",
      "[[3], [1], [2]]\n",
      "Move from peg  1  to peg 2\n",
      "[[3], [], [2, 1]]\n",
      "Move from peg  0  to peg 1\n",
      "[[], [3], [2, 1]]\n",
      "Move from peg  2  to peg 0\n",
      "[[1], [3], [2]]\n",
      "Move from peg  2  to peg 1\n",
      "[[1], [3, 2], []]\n",
      "Move from peg  0  to peg 1\n",
      "[[], [3, 2, 1], []]\n"
     ]
    }
   ],
   "source": [
    "def HanoiTower(n):\n",
    "    def HanoiTowerSteps(n, start, end, use):\n",
    "        if n > 0:\n",
    "            HanoiTowerSteps(n - 1, start, use, end)\n",
    "            print \"Move from peg \", str(start), \" to peg \" + str(end)\n",
    "            pegs[end].append(pegs[start].pop())\n",
    "            print pegs\n",
    "            HanoiTowerSteps(n - 1, use, end, start)\n",
    "    \n",
    "    NUM_PEGS = 3\n",
    "    pegs = [list(reversed(range(1, n + 1)))] + [[] for _ in range(1, NUM_PEGS)]\n",
    "    print pegs\n",
    "    HanoiTowerSteps(n, 0, 1, 2)\n",
    "    \n",
    "HanoiTower(3)"
   ]
  },
  {
   "cell_type": "markdown",
   "metadata": {},
   "source": [
    "### 15.2 Generate All Nonattacking Placements of n-Queens\n",
    "\n",
    "A nonattacking placement of queens is one in which no two queens are in the same row, column, or diagnoal. \n",
    "\n",
    "Write a program which returns all distinct nonattacking placements of n queens on a nxn chessboard, where n is an input to the program"
   ]
  },
  {
   "cell_type": "code",
   "execution_count": 22,
   "metadata": {
    "collapsed": false
   },
   "outputs": [
    {
     "name": "stdout",
     "output_type": "stream",
     "text": [
      "[[3, 2, 1], [], []]\n",
      "[[3, 2], [], [1]]\n"
     ]
    }
   ],
   "source": []
  },
  {
   "cell_type": "code",
   "execution_count": null,
   "metadata": {
    "collapsed": true
   },
   "outputs": [],
   "source": []
  }
 ],
 "metadata": {
  "kernelspec": {
   "display_name": "Python [Root]",
   "language": "python",
   "name": "Python [Root]"
  },
  "language_info": {
   "codemirror_mode": {
    "name": "ipython",
    "version": 2
   },
   "file_extension": ".py",
   "mimetype": "text/x-python",
   "name": "python",
   "nbconvert_exporter": "python",
   "pygments_lexer": "ipython2",
   "version": "2.7.12"
  }
 },
 "nbformat": 4,
 "nbformat_minor": 0
}
