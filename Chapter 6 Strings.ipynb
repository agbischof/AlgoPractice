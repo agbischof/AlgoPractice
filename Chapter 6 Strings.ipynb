{
 "cells": [
  {
   "cell_type": "markdown",
   "metadata": {},
   "source": [
    "# Chapter 6: Strings"
   ]
  },
  {
   "cell_type": "markdown",
   "metadata": {},
   "source": [
    "* A string is a special kind of array made of characters\n",
    "* Methods unique to strings\n",
    "    * comparison, joining, splitting, searching for substrings, replacing one string by another, parsing"
   ]
  },
  {
   "cell_type": "markdown",
   "metadata": {},
   "source": [
    "**String libraries**\n",
    "* Key Operators and functions\n",
    "    * s[3] - select element\n",
    "    * len(s) - length of s\n",
    "    * s + t - concat 2 strings\n",
    "    * s[2:4] - slice string\n",
    "    * s in t - for letter in string\n",
    "    * s.strip() - removes whitespaces or specified string on both sides\n",
    "    * s.startswith(prefix) \n",
    "    * s.endswith(suffix)\n",
    "    * s.split(',') - splits on comma and returns array of strings\n",
    "    * 3 * '01'\n",
    "    * ','.join([]) - joins strings in array separated by ,\n",
    "    * s.tolower() - to lowercase"
   ]
  },
  {
   "cell_type": "markdown",
   "metadata": {},
   "source": [
    "**Remember**\n",
    "* Strings are immutable so concats and slicing can be expensive\n",
    "* Know alternatives to immutable strings\n",
    "    * list\n",
    "    * bytearray\n",
    "* updating a mutable string from the front is slow so see if it's possible to write values from the back"
   ]
  },
  {
   "cell_type": "markdown",
   "metadata": {},
   "source": [
    "## 6.1 Interconvert Strings and Integers\n",
    "Implement an integer to string conversion funtion, and a string to integer conversion function. For example, if the input to the first function is the integer 314, it should return \"314\" and vice versa"
   ]
  },
  {
   "cell_type": "code",
   "execution_count": 72,
   "metadata": {
    "collapsed": false
   },
   "outputs": [],
   "source": [
    "def int_to_string(int_num):\n",
    "    i = 1\n",
    "    str_int = \"\"\n",
    "    neg = False\n",
    "    if int_num == 0:\n",
    "        return str(int_num)\n",
    "    if int_num < 0:\n",
    "        int_num, neg = -1 * int_num, True\n",
    "        \n",
    "    while int_num > 0:\n",
    "        digit = int_num % (i * 10) / i\n",
    "        str_int += str(digit)\n",
    "        int_num -= (digit * i)\n",
    "        i *= 10\n",
    "    if neg:\n",
    "        str_int += \"-\"        \n",
    "    return str_int[::-1]\n",
    "\n",
    "assert(int_to_string(314) == \"314\")\n",
    "assert(int_to_string(1) == \"1\")\n",
    "assert(int_to_string(0) == \"0\")\n",
    "assert(int_to_string(561789) == \"561789\")\n",
    "assert(int_to_string(-561789) == \"-561789\")\n",
    "assert(int_to_string(1098728471912) == \"1098728471912\")\n",
    "\n",
    "import string\n",
    "def string_to_int(str_int):\n",
    "    final_int = 0\n",
    "    neg = 1\n",
    "    for i in range(len(str_int)):\n",
    "        if str_int[i] != \"-\":\n",
    "            final_int = final_int * 10 + string.digits.index(str_int[i])\n",
    "        else: \n",
    "            neg = -1\n",
    "    return neg * final_int\n",
    "\n",
    "assert(string_to_int(\"314\") == 314)\n",
    "assert(string_to_int(\"-314\") == -314)\n",
    "assert(string_to_int(\"510586192\") == 510586192)"
   ]
  },
  {
   "cell_type": "markdown",
   "metadata": {
    "collapsed": false
   },
   "source": [
    "## 6.3 Compute the Spreadsheet Column Encoding\n",
    "Implement a function that converts a spreadsheet column id to the corresponding integer, with A corresponding to 1. For example D = 4, AA = 27, ZZ = 702"
   ]
  },
  {
   "cell_type": "code",
   "execution_count": 8,
   "metadata": {
    "collapsed": false
   },
   "outputs": [],
   "source": [
    "def spreadsheet_encoding(ss_col):\n",
    "    index = 0\n",
    "    for i, letter in enumerate(ss_col[::-1]):\n",
    "        index += 26**i * (ord(ss_col[i]) - ord('A') + 1)\n",
    "    return index\n",
    "\n",
    "assert(spreadsheet_encoding('A') == 1)\n",
    "assert(spreadsheet_encoding('AA') == 27)\n",
    "assert(spreadsheet_encoding('ZZ') == 702)\n",
    "assert(spreadsheet_encoding('AAA') == 703)"
   ]
  },
  {
   "cell_type": "markdown",
   "metadata": {
    "collapsed": false
   },
   "source": [
    "## 6.4 Replace and Remove\n",
    "Consider the following 2 rules applied to an array of characters\n",
    "replace each a by 2 d's\n",
    "delete each entry containing a b"
   ]
  },
  {
   "cell_type": "code",
   "execution_count": 75,
   "metadata": {
    "collapsed": false,
    "scrolled": true
   },
   "outputs": [],
   "source": [
    "def delete_from_array(A, removed):\n",
    "    current = 0\n",
    "    for i in range(len(A)):\n",
    "        if A[i] != removed:\n",
    "            A[current] = A[i]\n",
    "            current += 1\n",
    "    return A[0:current]\n",
    "\n",
    "assert(delete_from_array(['a','b','c','d','b','f'], 'b') == ['a','c','d','f'])\n",
    "    \n",
    "def insert_to_array(A, replace, new):\n",
    "    orig_l = len(A) - 1\n",
    "    for item in A:\n",
    "        if item == replace:\n",
    "            for i in range(len(new) - 1):\n",
    "                A.append('0')\n",
    "    i = len(A) - 1\n",
    "    while i > 0 :\n",
    "        if A[orig_l] == replace:\n",
    "            for item in new:\n",
    "                A[i] = item\n",
    "                i -= 1\n",
    "        else:\n",
    "            A[i] = A[orig_l]\n",
    "            i -= 1\n",
    "        orig_l -= 1\n",
    "    return A\n",
    "            \n",
    "assert(insert_to_array(['a', 'b', 'c', 'a', 'e'],'a', ['d', 'd']) == ['d', 'd', 'b', 'c', 'd', 'd', 'e'])\n",
    "    \n",
    "def add_delete_from_array(A):\n",
    "    A = delete_from_array(A, 'b')\n",
    "    A = insert_to_array(A, 'a', ['d','d'])\n",
    "    return A\n",
    "\n",
    "assert(add_delete_from_array(['f','b', 'a', 'f', 'c','e','g','a', 'c','b']) == ['f','d','d','f','c','e','g','d','d','c'])\n",
    "assert(add_delete_from_array(['f','b', 'a', 'a', 'a','a','g','a', 'c','b']) == ['f','d','d','d','d','d','d','d','d','g','d','d','c'])"
   ]
  },
  {
   "cell_type": "markdown",
   "metadata": {},
   "source": [
    "## 6.5 Test Palindromicity\n",
    "Implement a function which takes as input a string s and returns true if s is a palindromic string. Example \"Able was I, ere I saw Elba!\" or \"A man a plan, a canal, Panama\" but not \"Ray a Ray\""
   ]
  },
  {
   "cell_type": "code",
   "execution_count": 93,
   "metadata": {
    "collapsed": false
   },
   "outputs": [],
   "source": [
    "def is_palindrome(A):\n",
    "    A = ''.join(e for e in A if e.isalnum()).lower()\n",
    "    for i in range(len(A)/2):\n",
    "        if A[i] != A[len(A) - 1 - i]:\n",
    "            return False\n",
    "    return True\n",
    "\n",
    "assert(is_palindrome(\"check My palindrome!\") == False)\n",
    "assert(is_palindrome(\"Able was I, ere I saw Elba!\") == True)\n",
    "assert(is_palindrome(\"A man a plan, a canal, Panama\") == True)\n",
    "assert(is_palindrome(\"Ray a Ray\") == False)"
   ]
  },
  {
   "cell_type": "markdown",
   "metadata": {},
   "source": [
    "## 6.6 Reverse all the words in a sentence\n",
    "Implement a function for reversig the words in a string s"
   ]
  },
  {
   "cell_type": "code",
   "execution_count": null,
   "metadata": {
    "collapsed": true
   },
   "outputs": [],
   "source": [
    "def reverse_sentence(A):\n",
    "    "
   ]
  }
 ],
 "metadata": {
  "kernelspec": {
   "display_name": "Python [gl-env]",
   "language": "python",
   "name": "Python [gl-env]"
  },
  "language_info": {
   "codemirror_mode": {
    "name": "ipython",
    "version": 2
   },
   "file_extension": ".py",
   "mimetype": "text/x-python",
   "name": "python",
   "nbconvert_exporter": "python",
   "pygments_lexer": "ipython2",
   "version": "2.7.12"
  }
 },
 "nbformat": 4,
 "nbformat_minor": 0
}
