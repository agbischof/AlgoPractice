{
 "cells": [
  {
   "cell_type": "markdown",
   "metadata": {},
   "source": [
    "# Chapter 12: Hash Tables"
   ]
  },
  {
   "cell_type": "markdown",
   "metadata": {},
   "source": [
    "A has table is a data structure used to store keys, optionally, with corresponding values. Inserts, deletes ad lookups run in O(1) time on average"
   ]
  },
  {
   "cell_type": "markdown",
   "metadata": {},
   "source": [
    "* Store keys in an array\n",
    "* Stored in array location (\"slots\") based on its \"hash code\"\n",
    "* integer location is determined from the key by a hash function, chosed the distribute the keys uniformly\n",
    "* 2 keys mapped to the same location is callaed a \"collision\"\n",
    "* collisons are dealt with by maintaining a linked list of objects at each array location\n",
    "* if there aren't too many collisons the time complexity of lookups, insertions, and deletes is O(1 + n/m)- n is the number of objects and m is the lenth of the array\n",
    "* If n/m grows large can rehash to move to a larger array, rehashing is expensive O(n+m) time\n",
    "\n",
    "\n",
    "* inserting and deleting is more efficient (assuing infrequent hasing) then for a BST"
   ]
  },
  {
   "cell_type": "markdown",
   "metadata": {},
   "source": [
    "Requirements of a Hash Function:\n",
    "* equal keys have equal has codes\n",
    "* uniformly distrubite keys across the array\n",
    "* efficient to compute\n",
    "\n",
    "\n",
    "* if changing a key - remove it first, update, then add it back\n",
    "* avoid using mutable objects as keys"
   ]
  },
  {
   "cell_type": "markdown",
   "metadata": {},
   "source": [
    "**Hash Function for Strings:**\n",
    "* examine all the characters in the string\n",
    "* give a large range of values\n",
    "* don't let one character dominate\n",
    "* we want a rolling hash function - if one character is deleted from the front and another added tot eh end the hash code can be copute in O(1) time\n",
    "\n",
    "Example:\n"
   ]
  },
  {
   "cell_type": "code",
   "execution_count": 1,
   "metadata": {
    "collapsed": true
   },
   "outputs": [],
   "source": [
    "def string_has(s, modulus):\n",
    "    MULT = 997\n",
    "    return functools.reduce(lambda v, c: (v * MULT + ord(c)) % modulus, s, 0)"
   ]
  },
  {
   "cell_type": "markdown",
   "metadata": {},
   "source": [
    "**Tips for Hash Tables**\n",
    "* Hash Tables have the best theoretical and real-world performance for lookup, insert and delete -- O(1)\n",
    "* The average insert takes O(1) but can take O(n) if the tables has to be resized\n",
    "* Consider using a hash code as a signature to enhance performance. To filter out candidates\n",
    "* Consider using a precomputed lookup table instead of if-then code for maapings\n",
    "* Be sure to understand the relationship between logical equality and the fields the has function must inspect\n",
    "* you may need a multimap (map that contains multiple values for a single key) or a bi-diretional map"
   ]
  },
  {
   "cell_type": "markdown",
   "metadata": {},
   "source": [
    "**Hash table Libraries**\n",
    "* common hash table data structures - set, dict, collections.defaultdict, and collections.Counter\n",
    "    * set only stores keys while the others store key-value pairs, none allow for duplicate keys\n",
    "    * dict throws an error if you try to access a key that doesn't exist \n",
    "    * defaultdict returns an empty of the default value\n",
    "    * Counter is used for counting the number of occurances of keys\n",
    "* set operations are \n",
    "    * add\n",
    "    * remove \n",
    "    * discard\n",
    "    * x in s - iteration yields the keys, to iterate over key-value paris use items() to iterate over values use values() \n",
    "    * s <= t (is s a subset of t) \n",
    "    * s - t (elements in s not in t)\n",
    "    \n",
    "\n",
    "* for a user-defined class implement \\__hash(self)\\__) "
   ]
  },
  {
   "cell_type": "markdown",
   "metadata": {},
   "source": [
    "## 12.1 Test for Palindromic Permutations\n",
    "A palindrome is a string that reads the same forwards and backwards, e.g., \"level\", \"rotator\", and \"footaraboof\"\n",
    "\n",
    "Write a program to test whether the letters forming a string can be permuted to form a palindrome. For example edified can be permuted to form deified"
   ]
  },
  {
   "cell_type": "code",
   "execution_count": 26,
   "metadata": {
    "collapsed": true
   },
   "outputs": [],
   "source": [
    "# idea: create a hash table (Counter) of the string and if the number of odd keys is less than or equal to 1 \n",
    "# then it is a palindrome\n",
    "import collections\n",
    "\n",
    "def palindrom_permutation(s):\n",
    "    a = collections.Counter(s) \n",
    "    return sum(v % 2 for v in a.values()) <= 1\n",
    "    \n",
    "assert(palindrom_permutation(\"level\") == True)\n",
    "assert(palindrom_permutation(\"footaratoof\") == True)\n",
    "assert(palindrom_permutation(\"rotator\") == True)\n",
    "assert(palindrom_permutation(\"edified\") == True)\n",
    "assert(palindrom_permutation(\"edifiedt\") == False)\n",
    "assert(palindrom_permutation(\"rotaator\") == True)\n",
    "assert(palindrom_permutation(\"rotattor\") == False)"
   ]
  },
  {
   "cell_type": "markdown",
   "metadata": {},
   "source": [
    "## 12.2 Is an anonymous letter constructible?\n",
    "Write a program that takes test from an anonymous letter and text for a magazine and determines if it is possible to write the anonymous letter using the magazine. \n",
    "\n",
    "The letter could be written using the magazine if for each character in the letter the number of times it appears is no more than the number of times it appears in the magazine."
   ]
  },
  {
   "cell_type": "code",
   "execution_count": 52,
   "metadata": {
    "collapsed": true
   },
   "outputs": [],
   "source": [
    "import collections\n",
    "\n",
    "def letter_construct(letter, magazine):\n",
    "    letter = letter.replace(\" \", \"\")\n",
    "    magazine = magazine.replace(\" \", \"\")\n",
    "    if len(letter) > len(magazine):\n",
    "        return False\n",
    "    l = collections.Counter(letter)\n",
    "    for let in magazine:\n",
    "        if l[let] > 0:\n",
    "            l[let] -= 1\n",
    "        if l[let] <= 0:\n",
    "            del l[let]\n",
    "            if len(l) <= 0:\n",
    "                return True\n",
    "    return False\n",
    "    \n",
    "assert(letter_construct(\"test me\", \"text\") == False)\n",
    "assert(letter_construct(\"test me\", \"etextsm\") == True)\n",
    "assert(letter_construct(\"test me\", \"textsm\") == False)\n",
    "assert(letter_construct(\"test me\", \"etextmsasdfasdoijasdfijm\") == True)"
   ]
  },
  {
   "cell_type": "markdown",
   "metadata": {},
   "source": [
    "## 12.3 Implement an ISBN Cache\n",
    "The ISBN is a unique commercial book identifier. It is a string of length 10. The first 9 characters are digits; the last character is a check character, it is the sum of the first 9 digits, mod 11, with 10 represented by X. \n",
    "\n",
    "Create a cache for looking up prices of books identified by their ISBN. You implement lookup, insert, and remove methods. Use the Least Recently Used (LRU) policy for cache eviction. If ISBN is already present, insert should not change the price, but should update that entry to be the most recently used entry. Lookup should also update that entry to be the most recently used entry."
   ]
  },
  {
   "cell_type": "code",
   "execution_count": 124,
   "metadata": {
    "collapsed": true
   },
   "outputs": [],
   "source": [
    "# create an object to store ISBN, price, and last used timestamp\n",
    "# store in hash table, hashed on ISBN\n",
    "# brainstorm ways to have eviction be faster than O(n) - could do it with more storage using a heap on time stamp\n",
    "import time\n",
    "\n",
    "def ISBN_10digit(ISBN_first9):\n",
    "    \"\"\"\n",
    "    input: \n",
    "        ISBN_first9 - first 9 digits of an ISBN as a string\n",
    "    returns: \n",
    "        10 digit ISBN as a string where the last digit is the sum of the first 9 mod 11, with 10 replaced with X\n",
    "    \"\"\"\n",
    "    if not isinstance(ISBN_first9, basestring) or len(ISBN_first9) != 9:\n",
    "        return \"ISBN_first9 must be a string of length 9\"\n",
    "    nums = [int(i) for i in ISBN_first9]\n",
    "    last_digit = sum(nums) % 11\n",
    "    if last_digit == 10:\n",
    "        last_digit = 'X'\n",
    "    return str(ISBN_first9) + str(last_digit)\n",
    "\n",
    "assert(ISBN_10digit(\"111111111\") == \"1111111119\")\n",
    "assert(ISBN_10digit(\"111111112\") == \"111111112X\")\n",
    "assert(ISBN_10digit(\"111119112\") == \"1111191127\")\n",
    "assert(ISBN_10digit(1122341) == \"ISBN_first9 must be a string of length 9\")\n",
    "assert(ISBN_10digit(\"1122341\") == \"ISBN_first9 must be a string of length 9\")\n",
    "\n",
    "class ISBN_item:\n",
    "    def __init__(self):\n",
    "        None\n",
    "    \n",
    "    def __init__(self, ISBN, price):\n",
    "        self.ISBN = ISBN\n",
    "        self.price = price\n",
    "        self.last_used = time.time()\n",
    "        \n",
    "    def __get_item__(self):\n",
    "        return None\n",
    "    \n",
    "    def set_last_used(self):\n",
    "        self.last_used = time.time()\n",
    "    \n",
    "    def get_price(self):\n",
    "        self.set_last_used()\n",
    "        return self.price\n",
    "    \n",
    "    def get_last_used(self):\n",
    "        return self.last_used\n",
    "    \n",
    "    def get_ISBN(self):\n",
    "        return self.ISBN\n",
    "\n",
    "a = ISBN(ISBN_10digit(\"111111111\"), 9)"
   ]
  },
  {
   "cell_type": "code",
   "execution_count": 157,
   "metadata": {
    "collapsed": true
   },
   "outputs": [],
   "source": [
    "import collections\n",
    "import time\n",
    "\n",
    "class ISBN_cache:\n",
    "    def __init__(self, max_cache):\n",
    "        self.ISBN_dict = collections.defaultdict(str)\n",
    "        self.max_cache = max_cache\n",
    "        \n",
    "    def find_oldest(self):\n",
    "        oldest_time = time.time()\n",
    "        oldest_ISBN = \"\"\n",
    "        for item in self.ISBN_dict:\n",
    "            #print item\n",
    "            #print value.get_price()\n",
    "            if self.ISBN_dict[item].get_last_used() < oldest_time:\n",
    "                oldest_time = self.ISBN_dict[item].get_last_used()\n",
    "                oldest_ISBN = item\n",
    "        return oldest_ISBN\n",
    "        \n",
    "    def insert_ISBN(self, ISBN, price):\n",
    "        if len(self.ISBN_dict) >= self.max_cache:\n",
    "            self.remove(self.find_oldest())\n",
    "            \n",
    "        if self.ISBN_dict[ISBN] == \"\":\n",
    "            # ISBN is not yet in the dict add it\n",
    "            self.ISBN_dict[ISBN] = ISBN_item(ISBN, price)\n",
    "        else:\n",
    "            # already in the dict, don't update anything but the last_used time\n",
    "            self.ISBN_dict[ISBN].set_last_used()\n",
    "    \n",
    "    def lookup(self, ISBN):\n",
    "        if self.ISBN_dict[ISBN] == \"\":\n",
    "            self.ISBN_dict.pop(ISBN)\n",
    "            return \"ISBN doesn't exist\"\n",
    "        self.ISBN_dict[ISBN].set_last_used()\n",
    "        return self.ISBN_dict[ISBN].get_price()\n",
    "    \n",
    "    def remove(self, ISBN):\n",
    "        self.ISBN_dict.pop(ISBN)\n",
    "    \n",
    "a = ISBN_cache(5)\n",
    "a.insert_ISBN(ISBN_10digit(\"111111111\"), 9)\n",
    "#print a.ISBN_dict[\"1111111119\"].get_last_used()\n",
    "time.sleep(.5)\n",
    "assert(a.lookup(\"1111111119\") == 9)\n",
    "#print a.ISBN_dict[\"1111111119\"].get_last_used()\n",
    "a.remove(\"1111111119\")\n",
    "assert(a.lookup(\"1111111119\") == \"ISBN doesn't exist\")\n",
    "\n",
    "a.insert_ISBN(ISBN_10digit(\"111111111\"), 9)\n",
    "a.insert_ISBN(ISBN_10digit(\"121111111\"), 10)\n",
    "a.insert_ISBN(ISBN_10digit(\"131111111\"), 11)\n",
    "a.insert_ISBN(ISBN_10digit(\"141111111\"), 12)\n",
    "a.insert_ISBN(ISBN_10digit(\"151111111\"), 13)\n",
    "a.insert_ISBN(ISBN_10digit(\"161111111\"), 14)\n",
    "assert(a.lookup(\"1111111119\") == \"ISBN doesn't exist\")\n",
    "assert(a.lookup(\"121111111X\") == 10)\n",
    "a.insert_ISBN(ISBN_10digit(\"171111111\"), 15)\n",
    "assert(a.lookup(\"121111111X\") == 10)\n",
    "assert(a.lookup(\"1311111111\") == \"ISBN doesn't exist\")\n",
    "\n",
    "a.insert_ISBN(ISBN_10digit(\"121111111\"), 50)\n",
    "assert(a.lookup(\"121111111X\") == 10)"
   ]
  },
  {
   "cell_type": "markdown",
   "metadata": {},
   "source": [
    "## 12.6 Find the Nearest Repeated Entries in an Array\n",
    "\n",
    "People do not like reading text in which a word is used multiple times in a short paragraph. You are to write a program which helps identify such a problem. \n",
    "\n",
    "Write a program which takes as input an array and finds the distnce between a closest pair of equal entries, if s = [\"All\", \"work\", \"and\", \"no\", \"play\", \"makes\", \"for\", \"no\", \"work\", \"no\", \"fun\", \"and\", \"no\", \"results\"]. Then the 2nd and 3rd occurance of \"no\" is the closest pair"
   ]
  },
  {
   "cell_type": "code",
   "execution_count": 164,
   "metadata": {
    "collapsed": false
   },
   "outputs": [
    {
     "data": {
      "text/plain": [
       "('no', 7, 9)"
      ]
     },
     "execution_count": 164,
     "metadata": {},
     "output_type": "execute_result"
    }
   ],
   "source": [
    "# add each word to a hash table keeping \n",
    "# Only keep the most recent location\n",
    "# separately store the current smallest distance and it's 2 locations\n",
    "import collections\n",
    "\n",
    "def nearest_words(s):\n",
    "    min_word = None\n",
    "    first = None\n",
    "    second = None\n",
    "    word_dict = collections.defaultdict()\n",
    "    \n",
    "    for i, word in enumerate(s):\n",
    "        if word in word_dict:\n",
    "            if first is None or i - word_dict[word] < second - first:\n",
    "                first = word_dict[word]\n",
    "                second = i\n",
    "                min_word = word\n",
    "        word_dict[word] = i\n",
    "    return (min_word, first, second)\n",
    "\n",
    "nearest_words( [\"All\", \"work\", \"and\", \"no\", \"play\", \"makes\", \"for\", \"no\", \"work\", \"no\", \"fun\", \"and\", \"no\", \"results\"])"
   ]
  },
  {
   "cell_type": "code",
   "execution_count": null,
   "metadata": {
    "collapsed": true
   },
   "outputs": [],
   "source": []
  }
 ],
 "metadata": {
  "kernelspec": {
   "display_name": "Python [Root]",
   "language": "python",
   "name": "Python [Root]"
  },
  "language_info": {
   "codemirror_mode": {
    "name": "ipython",
    "version": 2
   },
   "file_extension": ".py",
   "mimetype": "text/x-python",
   "name": "python",
   "nbconvert_exporter": "python",
   "pygments_lexer": "ipython2",
   "version": "2.7.12"
  }
 },
 "nbformat": 4,
 "nbformat_minor": 2
}
