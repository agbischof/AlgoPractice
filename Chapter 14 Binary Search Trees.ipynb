{
 "cells": [
  {
   "cell_type": "markdown",
   "metadata": {},
   "source": [
    "# Chapter 14: Binary Search Trees"
   ]
  },
  {
   "cell_type": "markdown",
   "metadata": {},
   "source": [
    "**Binary Search Trees are a workhorse of a data structure and can be used to solve almost every data structures problem reasonably efficiently**\n",
    "\n",
    "* search for a key\n",
    "* find min and max elements\n",
    "* look for successor or predecssor of a search key\n",
    "* enumerate keys in a range in a sorted order"
   ]
  },
  {
   "cell_type": "markdown",
   "metadata": {},
   "source": [
    "* BST is a binary tree in which the nodes store keys that are comparable (integers or strings)\n",
    "* The keys stored at nodes have to respect the BST property - key stored at a node is great than or equal to the keys stored at the nodes of its left subtree and less than or equal to the keys stored in the nodes of its right subtree\n",
    "* Key lookup, insertion, and deletion take time proportional to the height of the tree, worst case can be O(n), however with non naive implementation guarentee O(log n)\n",
    "* red-black trees are an example of height balanced BSTs and are widely used\n",
    "* avoid putting mutable objects in a BST, or remove an object prior to updating if it is mutable"
   ]
  },
  {
   "cell_type": "code",
   "execution_count": 1,
   "metadata": {
    "collapsed": true
   },
   "outputs": [],
   "source": [
    "# BST prototype\n",
    "class BSTNode:\n",
    "    def __init__(self, data = None, left = None, right = None):\n",
    "        self.data, self.left, self.right = data, left, right\n",
    "    \n",
    "    def set_right(self, r_node):\n",
    "        self.right = r_node\n",
    "    \n",
    "    def set_left(self, l_node):\n",
    "        self.left = l_node"
   ]
  },
  {
   "cell_type": "markdown",
   "metadata": {},
   "source": [
    "## Binary search trees boot camp\n",
    "\n",
    "* Searching is the single most fundamental application of BSTs\n",
    "* also offers ability to find the next largest/next smallest element\n",
    "* these operations, along with lookup, delete and find take time O(log n) for library implementations\n",
    "* uses slightly more than O(n) space"
   ]
  },
  {
   "cell_type": "code",
   "execution_count": 2,
   "metadata": {},
   "outputs": [
    {
     "name": "stdout",
     "output_type": "stream",
     "text": [
      "31\n"
     ]
    }
   ],
   "source": [
    "# illustrates search on BSTs using recursion\n",
    "def search_bst(tree, key):\n",
    "    if not tree or tree.data == key:\n",
    "        return tree\n",
    "    elif key < tree.data:\n",
    "        return search_bst(tree.left, key)\n",
    "    else:\n",
    "        return search_bst(tree.right, key)\n",
    "\n",
    "h = BSTNode(13)\n",
    "g = BSTNode(17, h, None)\n",
    "f = BSTNode(11, None, g)\n",
    "e = BSTNode(5)\n",
    "d = BSTNode(2)\n",
    "c = BSTNode(3, d, e)\n",
    "b = BSTNode(7, c, f)\n",
    "m = BSTNode(31)\n",
    "l = BSTNode(29, None, m)\n",
    "n = BSTNode(41)\n",
    "k = BSTNode(37, l, n)\n",
    "j = BSTNode(23, None, k)\n",
    "p = BSTNode(53)\n",
    "o = BSTNode(47, None, p)\n",
    "i = BSTNode(43, j, o)\n",
    "a = BSTNode(19, b, i)\n",
    "\n",
    "print search_bst(a, 31).data"
   ]
  },
  {
   "cell_type": "markdown",
   "metadata": {},
   "source": [
    "**top tips**\n",
    "* you can iterate through elements in sorted order in time O(n)\n",
    "* some problems need a combination of a BST and a hashtable. For example student objects where it is GPA sorted and you need to update a students GPA but all you have is the student name and new GPA, finding the student would be O(n) without a hashtable\n",
    "* augmented BSTs are needed for things like the number of elements in a range"
   ]
  },
  {
   "cell_type": "markdown",
   "metadata": {},
   "source": [
    "**libraries**\n",
    "Python does not come with a built-in BST library\n",
    "* **sortedcontainers** module is the best option\n",
    "    * data stucture is a sorted list of sorted lists\n",
    "    * asymptotic time complexity for inserts and deletes is O(sqrt(n))\n",
    "* **bintrees** is used here which implements sorted sets and sorted dictionaries using balanced BSTs\n",
    "    * insert(e) insers new element e in the BST\n",
    "    * discard(e) removes e in the BST is present\n",
    "    * min_item()/max_item() yield the smallest and largest key-value pair in the BST\n",
    "    * min_key()/max_key() yield the smallest and largest key in the BST\n",
    "    * pop_min()/pop_max() remove and return the smallest and largest key-value pair in the BST\n",
    "    * these oeprations take O(log n)"
   ]
  },
  {
   "cell_type": "markdown",
   "metadata": {},
   "source": [
    "# Problems"
   ]
  },
  {
   "cell_type": "markdown",
   "metadata": {},
   "source": [
    "## 14.1 Test if a Binary Tree Satisfies the BST Property \n",
    "\n",
    "Write a program that takes as input a binary tree and checks if the tree satisfies the BST property. "
   ]
  },
  {
   "cell_type": "code",
   "execution_count": 3,
   "metadata": {
    "collapsed": true
   },
   "outputs": [],
   "source": [
    "def BST_check(tree, low_range = float('-inf'), high_range = float('inf')):\n",
    "    if not tree:\n",
    "        return True\n",
    "    elif not (low_range <= tree.data and high_range >= tree.data):\n",
    "        return False\n",
    "    \n",
    "    return (BST_check(tree.left, low_range, tree.data) and \n",
    "            BST_check(tree.right, tree.data, high_range))\n",
    "\n",
    "h = BSTNode(13)\n",
    "g = BSTNode(17, h, None)\n",
    "f = BSTNode(11, None, g)\n",
    "e = BSTNode(5)\n",
    "d = BSTNode(2)\n",
    "c = BSTNode(3, d, e)\n",
    "b = BSTNode(7, c, f)\n",
    "m = BSTNode(31)\n",
    "l = BSTNode(29, None, m)\n",
    "n = BSTNode(41)\n",
    "k = BSTNode(37, l, n)\n",
    "j = BSTNode(23, None, k)\n",
    "p = BSTNode(53)\n",
    "o = BSTNode(47, None, p)\n",
    "i = BSTNode(43, j, o)\n",
    "a = BSTNode(19, b, i)\n",
    "z = BSTNode(100)\n",
    "\n",
    "assert(BST_check(a) == True)\n",
    "\n",
    "j.set_left(z)\n",
    "assert(BST_check(a) == False)"
   ]
  },
  {
   "cell_type": "markdown",
   "metadata": {},
   "source": [
    "# 14.2 Find the First Key Greater than A Given Value in a BST\n",
    "\n",
    "Write a program that takes as input a BST and a value and returns the first key that would appear in an inorder traversal which is great than the input value. For example, when applied to BST in fig 14.1 you should return 29 for 23"
   ]
  },
  {
   "cell_type": "code",
   "execution_count": 16,
   "metadata": {},
   "outputs": [
    {
     "name": "stdout",
     "output_type": "stream",
     "text": [
      "19\n",
      "43\n",
      "23\n",
      "\n",
      "29\n",
      "37\n",
      "None\n",
      "19\n"
     ]
    }
   ],
   "source": [
    "def first_greater_BST(tree, value):\n",
    "    print tree.data\n",
    "    if tree.data == value:\n",
    "        print\n",
    "        bottom = inorder_traversal(tree, tree) \n",
    "        print bottom\n",
    "    elif tree.data < value:\n",
    "        next_node = first_greater_BST(tree.right, value)\n",
    "    else:\n",
    "        next_node = first_greater_BST(tree.left, value)\n",
    "        \n",
    "    return tree.data\n",
    "    \n",
    "def inorder_traversal(head, node):\n",
    "    if node:\n",
    "        next = inorder_traversal(head, node.left)\n",
    "        if node != head:\n",
    "            print node.data\n",
    "            return (next or node)\n",
    "        next = inorder_traversal(head, node.right)  \n",
    "    \n",
    "    \n",
    "h = BSTNode(13)\n",
    "g = BSTNode(17, h, None)\n",
    "f = BSTNode(11, None, g)\n",
    "e = BSTNode(5)\n",
    "d = BSTNode(2)\n",
    "c = BSTNode(3, d, e)\n",
    "b = BSTNode(7, c, f)\n",
    "m = BSTNode(31)\n",
    "l = BSTNode(29, None, m)\n",
    "n = BSTNode(41)\n",
    "k = BSTNode(37, l, n)\n",
    "j = BSTNode(23, None, k)\n",
    "p = BSTNode(53)\n",
    "o = BSTNode(47, None, p)\n",
    "i = BSTNode(43, j, o)\n",
    "a = BSTNode(19, b, i)\n",
    "\n",
    "print first_greater_BST(a, 23)"
   ]
  },
  {
   "cell_type": "code",
   "execution_count": null,
   "metadata": {
    "collapsed": true
   },
   "outputs": [],
   "source": []
  }
 ],
 "metadata": {
  "kernelspec": {
   "display_name": "Python 2",
   "language": "python",
   "name": "python2"
  },
  "language_info": {
   "codemirror_mode": {
    "name": "ipython",
    "version": 2
   },
   "file_extension": ".py",
   "mimetype": "text/x-python",
   "name": "python",
   "nbconvert_exporter": "python",
   "pygments_lexer": "ipython2",
   "version": "2.7.13"
  }
 },
 "nbformat": 4,
 "nbformat_minor": 2
}
