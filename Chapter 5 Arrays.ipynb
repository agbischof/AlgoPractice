{
 "cells": [
  {
   "cell_type": "markdown",
   "metadata": {},
   "source": [
    "# Chapter 5: Arrays"
   ]
  },
  {
   "cell_type": "code",
   "execution_count": 2,
   "metadata": {
    "collapsed": false
   },
   "outputs": [
    {
     "name": "stdout",
     "output_type": "stream",
     "text": [
      "[0, 5, 6, 2, 7, 9, 4, 0, 6, 8, 5, 2, 4, 6, 87, 23, 88]\n",
      "[0, 88, 6, 2, 6, 4, 4, 0, 6, 8, 2, 5, 9, 87, 23, 7, 5]\n"
     ]
    }
   ],
   "source": [
    "def even_odd(A):\n",
    "    next_even, next_odd = 0, len(A) -1\n",
    "    while next_even < next_odd:\n",
    "        if A[next_even] % 2 == 0:\n",
    "            next_even += 1 \n",
    "        else:\n",
    "            A[next_odd], A[next_even] = A[next_even], A[next_odd]\n",
    "            next_odd -= 1\n",
    "    return A\n",
    "\n",
    "A = [0,5,6,2,7,9,4,0,6,8,5,2,4,6,87,23,88]\n",
    "print A\n",
    "print even_odd(A)"
   ]
  },
  {
   "cell_type": "markdown",
   "metadata": {},
   "source": [
    "## 5.1 Dutch National Flag Problem\n",
    "The quicksort algorithm for sorting arrays proceeds recursively -- it selects an elemnt (the pivot), reorders the array to make all the elements less than or equal to the pivot appear first, followed by all the elements greater than the pivot. The 2 subarrays are then sorted recursively. \n",
    "\n",
    "Write a program that takes an array A and an index i into A, and rearranges the elements such that all elements less than A[i] (the pivot) appear first, followed by elements equal to the pivot, followed by elements great than the pivot"
   ]
  },
  {
   "cell_type": "code",
   "execution_count": 10,
   "metadata": {
    "collapsed": false
   },
   "outputs": [
    {
     "name": "stdout",
     "output_type": "stream",
     "text": [
      "[0, 0, 0, 0, 0, 1, 1, 1, 1, 1, 2, 2, 2, 2, 2, 2]\n"
     ]
    }
   ],
   "source": [
    "def dutch_flag(A, i):\n",
    "    next_pre, next_post, num_equal = 0, len(A) - 1, 0\n",
    "    pivot = A[i]\n",
    "    while next_pre + num_equal -1 < next_post:\n",
    "        if A[next_pre + num_equal] == pivot:\n",
    "            num_equal += 1\n",
    "        elif A[next_pre + num_equal] < pivot:\n",
    "            A[next_pre + num_equal], A[next_pre] = A[next_pre], A[next_pre + num_equal]\n",
    "            next_pre += 1\n",
    "        else:\n",
    "            A[next_pre + num_equal], A[next_post] = A[next_post], A[next_pre + num_equal]\n",
    "            next_post -= 1\n",
    "    return A\n",
    "\n",
    "A = [1,0,2,0,1,2,1,0,2,1,0,2,2,2,1,0]\n",
    "print dutch_flag(A,0)"
   ]
  },
  {
   "cell_type": "markdown",
   "metadata": {},
   "source": [
    "Variant: Assuming that keys take one of 3 values, reorder the array so that all objects with the same key appear together. Order of the variants isn't important, Use O(1) space and O(n) time"
   ]
  },
  {
   "cell_type": "code",
   "execution_count": 42,
   "metadata": {
    "collapsed": false
   },
   "outputs": [
    {
     "name": "stdout",
     "output_type": "stream",
     "text": [
      "[0, 0, 0, 0, 0, 1, 1, 1, 1, 1, 2, 2, 2, 2, 2, 2]\n"
     ]
    }
   ],
   "source": [
    "import collections\n",
    "def dutch_flag_3_elements(A):\n",
    "    keyTally = collections.Counter()\n",
    "    for element in A:\n",
    "        keyTally[element] += 1\n",
    "    pos = 0\n",
    "    for item in keyTally:\n",
    "        A[pos:pos + keyTally[item]] = [item] * keyTally[item] \n",
    "        pos += keyTally[item]\n",
    "    return A\n",
    "\n",
    "A = [1,0,2,0,1,2,1,0,2,1,0,2,2,2,1,0]\n",
    "print dutch_flag_3_elements(A)"
   ]
  },
  {
   "cell_type": "markdown",
   "metadata": {},
   "source": [
    "## 5.2 Increment an Arbitrary-Precision Integer\n",
    "Write a program which takes as input an array of digits encoding a decimal integer D and updates the array to represent the integer D + 1. For example, if the input is <1,2,9> then you should update the array to <1,3,0>"
   ]
  },
  {
   "cell_type": "code",
   "execution_count": 66,
   "metadata": {
    "collapsed": false
   },
   "outputs": [],
   "source": [
    "def increment_int_array(D):\n",
    "    carry = 1\n",
    "    pos = len(D) - 1\n",
    "    while carry > 0 and pos >= 0:\n",
    "        D[pos] += carry\n",
    "        if D[pos] > 9:\n",
    "            carry = D[pos] / 10\n",
    "            D[pos] = D[pos] - 10 * carry\n",
    "            pos -= 1\n",
    "        else:\n",
    "            carry = 0 \n",
    "            break\n",
    "    if (pos <= 0 and carry > 0):\n",
    "        D.insert(0, carry)\n",
    "    return D\n",
    "\n",
    "assert(increment_int_array([1,2,9]) == [1,3,0])\n",
    "assert(increment_int_array([9,9,9]) == [1,0,0,0])\n",
    "assert(increment_int_array([1,0,2]) == [1,0,3])"
   ]
  },
  {
   "cell_type": "markdown",
   "metadata": {},
   "source": [
    "## 5.3 Multiply Two Arbitrary-Precision Integers\n",
    "Write a program that takes two arrays representing integers, and returns an integer representing their product. \n",
    "[1,9,3,7,0,7,7,2,1] * [-7,6,1,8,3,8,2,5,7,2,8,7] = [-1,4,7,5,7,3,9,5,2,5,8,9,6,7,6,4,1,2,9,2,7]"
   ]
  },
  {
   "cell_type": "code",
   "execution_count": 18,
   "metadata": {
    "collapsed": false
   },
   "outputs": [],
   "source": [
    "def multiply_arrays(A,B):\n",
    "    if (A[0] < 0 or B[0] < 0):\n",
    "        sign = -1\n",
    "    else:\n",
    "        sign = 1\n",
    "    A[0], B[0] = abs(A[0]), abs(B[0])\n",
    "    result = [0]*(len(A) + len(B))\n",
    "    for iA in reversed(range(len(A))):\n",
    "        for iB in reversed(range(len(B))):\n",
    "            result[iA + iB + 1] += A[iA] * B[iB]\n",
    "            result[iA + iB] += result[iA + iB + 1] // 10\n",
    "            result[iA + iB + 1] %= 10 \n",
    "    result[0] *= sign * result[0]\n",
    "    return result\n",
    "\n",
    "assert(multiply_arrays([1,9,3,7,0,7,7,2,1], [-7,6,1,8,3,8,2,5,7,2,8,7]) == [-1,4,7,5,7,3,9,5,2,5,8,9,6,7,6,4,1,2,9,2,7])\n",
    "assert(multiply_arrays([2],[5]) == [1,0])\n",
    "assert(multiply_arrays([2,0,0,2],[5,9,9,9,9,8]) == [1, 2, 0, 1, 1, 9, 5, 9, 9, 6])"
   ]
  },
  {
   "cell_type": "markdown",
   "metadata": {
    "collapsed": true
   },
   "source": [
    "## 5.5 Delete Duplicate Elements\n",
    "Write a program to delete duplicate elements in an area and return the number of unique elements"
   ]
  },
  {
   "cell_type": "code",
   "execution_count": 29,
   "metadata": {
    "collapsed": false
   },
   "outputs": [],
   "source": [
    "def delete_dups(A):\n",
    "    num_uniques = 0\n",
    "    current = None\n",
    "    for i in range(len(A)):\n",
    "        if A[i] != current:\n",
    "            current = A[i]\n",
    "            A[num_uniques] = current\n",
    "            num_uniques += 1\n",
    "    A[num_uniques:len(A)] = [0] * ((len(A)) - num_uniques - 1)\n",
    "    return num_uniques\n",
    "\n",
    "test1 = [1,1,2,2,2,3,4,4,5,5,5,6,6,7,7,7,7,8]\n",
    "assert(delete_dups(test1) == 8)\n",
    "assert(test == [1, 2, 3, 4, 5, 6, 7, 8, 0, 0, 0, 0, 0, 0, 0, 0, 0])\n",
    "\n",
    "test2 = [0,1,2,3,3,3,3,3,4,4,5,5,5,5,5,5,6,6,6,6,7,7,7,7,9,9,9,10,11,11,15,15,128,129]\n",
    "assert(delete_dups(test2) == 14)\n",
    "assert(test2 == [0, 1, 2, 3, 4, 5, 6, 7, 9, 10, 11, 15, 128, 129, 0, 0, 0, 0, 0, 0, 0, 0, 0, 0, 0, 0, 0, 0, 0, 0, 0, 0, 0])"
   ]
  },
  {
   "cell_type": "markdown",
   "metadata": {},
   "source": [
    "## 5.6 Buy and Sell a Stock Once\n",
    "Write a program that returns the most you could make off by buying and selling a stock at the optimal times given a list of time ordered stock prices. \n",
    "\n",
    "Example: [310, 315, 275, 295, 260, 270, 290, 230, 255, 250] returns 30 "
   ]
  },
  {
   "cell_type": "code",
   "execution_count": 39,
   "metadata": {
    "collapsed": false
   },
   "outputs": [],
   "source": [
    "def stock_best(S):\n",
    "    max_diff = 0\n",
    "    current_max = 0\n",
    "    for i in reversed(range(len(S))):\n",
    "        diff = current_max - S[i]\n",
    "        if diff > max_diff:\n",
    "            max_diff = diff\n",
    "        if S[i] > current_max:\n",
    "            current_max = S[i]\n",
    "    return max_diff\n",
    "\n",
    "assert(stock_best([310, 315, 275, 295, 260, 270, 290, 230, 255, 250]) == 30)\n",
    "assert(stock_best([310, 315, 275, 295, 260, 270, 230, 250, 240]) == 20)"
   ]
  },
  {
   "cell_type": "markdown",
   "metadata": {},
   "source": [
    "## Enumerate All Primes to N\n",
    "A natural number is called a prime if it is bigger than 1 and has no divisors other than 1 and itself.\n",
    "\n",
    "Write a program that takes an integer argument and returns all the primes between 1 and that integer. For example, if the input is 18, you should return <2,3,5,7,11,13,17>"
   ]
  },
  {
   "cell_type": "code",
   "execution_count": 102,
   "metadata": {
    "collapsed": false
   },
   "outputs": [],
   "source": [
    "def all_primes(n):\n",
    "    '''return all primes between 1 and n\n",
    "       input: n is an integer greater than 1\n",
    "       output: list of integers that are prime between 1 and n\n",
    "    '''\n",
    "    prime_boolean = [True] * ((n)/2)\n",
    "    primes = [2]\n",
    "    for i in range(3, n + 1,2):\n",
    "        if prime_boolean[(i - 3) / 2]:\n",
    "            primes.append(i)\n",
    "            for j in range(i, n/i + 1,2):\n",
    "                prime_boolean[((i * j) - 2)/2] = False\n",
    "    return primes\n",
    "                \n",
    "assert(all_primes(19) == [2, 3, 5, 7, 11, 13, 17, 19])"
   ]
  },
  {
   "cell_type": "markdown",
   "metadata": {},
   "source": [
    "## Permute the Elements of an Array\n",
    "Given an array A of n elements and a permutation P, apply P to A\n",
    "example the permutation [2,0,1,3] applied to A = [a,b,c,d] is [b,c,a,d]"
   ]
  },
  {
   "cell_type": "code",
   "execution_count": 119,
   "metadata": {
    "collapsed": false
   },
   "outputs": [],
   "source": [
    "def permute_array(orig, perm):\n",
    "    for i, i_p in enumerate(perm):\n",
    "        temp_i = i\n",
    "        new_item = orig[i]\n",
    "        while (perm[temp_i] >= 0):\n",
    "            new_item, orig[perm[temp_i]] = orig[perm[temp_i]], new_item\n",
    "            perm[temp_i], temp_i = -1, perm[temp_i]\n",
    "    return orig\n",
    "\n",
    "assert(permute_array(['a','b','c','d'], [2,0,1,3]) == ['b', 'c', 'a', 'd'])\n",
    "assert(permute_array(['a', 'b', 'c', 'd', 'e', 'f', 'g'], [2,1,0,4,6,5,3]) == ['c', 'b', 'a', 'g', 'd', 'f', 'e'])"
   ]
  },
  {
   "cell_type": "markdown",
   "metadata": {},
   "source": [
    "## Sample Offline Data\n",
    "This problem is motivated by the need for a company to select a random subset of its customers to roll out a new feature to. \n",
    "Implement an algorithm that takes as input an array of distinct elements and a size, and returns a subset of the given size of the array elements. All subsets should be equally likely. Return the result in input array itself"
   ]
  },
  {
   "cell_type": "code",
   "execution_count": 156,
   "metadata": {
    "collapsed": false
   },
   "outputs": [
    {
     "name": "stdout",
     "output_type": "stream",
     "text": [
      "[2, 4, 6, 3, 4]\n",
      "[1, 5, 5, 0, 4]\n",
      "[3, 5, 6, 7, 2]\n",
      "[3, 3, 2, 8, 5]\n",
      "[6, 4, 9, 4, 5]\n",
      "[7, 4, 6, 1, 5]\n",
      "[5, 1, 4, 5, 4]\n",
      "[6, 2, 8, 7, 5]\n",
      "[5, 6, 4, 4, 1]\n"
     ]
    }
   ],
   "source": [
    "import random\n",
    "import math\n",
    "def sample_offline(array, n):\n",
    "    for i in range(n):\n",
    "        keep = random.randint(i,len(array)-1)\n",
    "        array[i], array[keep] = array[keep], array[i]\n",
    "    return array[0:n]\n",
    "\n",
    "print sample_offline([0,1,2,3,4,5,6,4,5,6,7,8,9,1,2,3,4,5], 5)\n",
    "print sample_offline([0,1,2,3,4,5,6,4,5,6,7,8,9,1,2,3,4,5], 5)\n",
    "print sample_offline([0,1,2,3,4,5,6,4,5,6,7,8,9,1,2,3,4,5], 5)\n",
    "print sample_offline([0,1,2,3,4,5,6,4,5,6,7,8,9,1,2,3,4,5], 5)\n",
    "print sample_offline([0,1,2,3,4,5,6,4,5,6,7,8,9,1,2,3,4,5], 5)\n",
    "print sample_offline([0,1,2,3,4,5,6,4,5,6,7,8,9,1,2,3,4,5], 5)\n",
    "print sample_offline([0,1,2,3,4,5,6,4,5,6,7,8,9,1,2,3,4,5], 5)\n",
    "print sample_offline([0,1,2,3,4,5,6,4,5,6,7,8,9,1,2,3,4,5], 5)\n",
    "print sample_offline([0,1,2,3,4,5,6,4,5,6,7,8,9,1,2,3,4,5], 5)\n"
   ]
  },
  {
   "cell_type": "markdown",
   "metadata": {},
   "source": [
    "## 5.15 Compute a Random Subset\n",
    "Write a program that takes a positive integer n and a size k <= n and returns a size-k subset of [0,1,2,....,n-1]. The subset should be represented as an array. "
   ]
  },
  {
   "cell_type": "code",
   "execution_count": 167,
   "metadata": {
    "collapsed": false
   },
   "outputs": [
    {
     "name": "stdout",
     "output_type": "stream",
     "text": [
      "[6, 3, 9, 8]\n",
      "[7, 5, 2, 6]\n",
      "[0, 2, 6, 8]\n",
      "[9, 7, 0, 8]\n"
     ]
    }
   ],
   "source": [
    "import random\n",
    "def random_subset(n,k):\n",
    "    A = {}\n",
    "    for i in range(k + 1):\n",
    "        perm = random.randint(i,n-1)\n",
    "        new_map = A.get(perm, perm)\n",
    "        new_i = A.get(i,i)\n",
    "        A[i] = new_map\n",
    "        A[perm] = new_i\n",
    "    return [A[i] for i in range(k)]\n",
    "\n",
    "print random_subset(10,4)        \n",
    "print random_subset(10,4)        \n",
    "print random_subset(10,4)        \n",
    "print random_subset(10,4)        "
   ]
  },
  {
   "cell_type": "markdown",
   "metadata": {},
   "source": [
    "## The Sudoku Checker\n",
    "Check whether a 9x9 2D array representing a partially completed Sudoku is valid. Specifically check that no row, column, or 3x3 2D subarray contains duplicates. 0 means empty"
   ]
  },
  {
   "cell_type": "code",
   "execution_count": 217,
   "metadata": {
    "collapsed": false
   },
   "outputs": [
    {
     "name": "stdout",
     "output_type": "stream",
     "text": [
      "True\n"
     ]
    }
   ],
   "source": [
    "import numpy as np\n",
    "\n",
    "def dup_check(block):\n",
    "    block = list(filter(lambda x: x != 0, block))\n",
    "    return len(list(block)) > len(set(list(block)))\n",
    "    \n",
    "\n",
    "def sudoku_check(A):\n",
    "    for i in range(9):\n",
    "        if dup_check(A[0,:]) or dup_check(A[:,0]):\n",
    "            return False\n",
    "    for i in range(0,7,3):\n",
    "        for j in range(0,7,3):\n",
    "            if dup_check(A[i:i+3,j:j+3].flatten()):\n",
    "                return False\n",
    "    return True\n",
    "    \n",
    "A = np.array(\n",
    "    [[0,0,0,1,2,0,3,0,4],\n",
    "     [0,0,0,0,0,0,0,0,5],\n",
    "     [0,0,0,6,3,0,2,0,1],\n",
    "     [0,0,0,0,4,0,5,0,0],\n",
    "     [0,0,0,0,5,0,6,0,0],\n",
    "     [0,0,0,3,6,0,7,0,0],\n",
    "     [0,0,0,7,0,0,8,0,0],\n",
    "     [0,0,0,8,0,0,9,0,0],\n",
    "     [0,0,0,9,0,0,0,0,0]])\n",
    "print sudoku_check(A)"
   ]
  },
  {
   "cell_type": "markdown",
   "metadata": {},
   "source": [
    "## 5.18 Compute the Spiral Ordering of a 2D Array\n",
    "Write a program which takes an nxn 2D array and returns the spiral ordering of the array"
   ]
  },
  {
   "cell_type": "code",
   "execution_count": 261,
   "metadata": {
    "collapsed": false
   },
   "outputs": [],
   "source": [
    "def outer_spiral(full):\n",
    "    outer = list(full[0,:-1]) \n",
    "    outer += list(full[:-1,-1])\n",
    "    outer += list(full[-1,-1:0:-1]) \n",
    "    outer += list(full[-1:0:-1,0])\n",
    "    return outer\n",
    "    \n",
    "\n",
    "def print_spiral(A):\n",
    "    final = []\n",
    "    while len(A.flatten()) > 0:\n",
    "        final += outer_spiral(A)\n",
    "        A = A[1:-1,1:-1]    \n",
    "    return final\n",
    "\n",
    "A = np.array([\n",
    "        [0,1,2,3],\n",
    "        [4,5,6,7],\n",
    "        [8,9,10,11],\n",
    "        [12,13,14,15]\n",
    "    ])\n",
    "assert(print_spiral(A) == [0, 1, 2, 3, 7, 11, 15, 14, 13, 12, 8, 4, 5, 6, 10, 9])\n",
    "\n",
    "B = A = np.array([\n",
    "        [0,1,2,3],\n",
    "        [4,5,6,7],\n",
    "        [8,9,10,11],\n",
    "        [12,13,14,15],\n",
    "        [16,17,18,19],\n",
    "        [20,21,22,23],\n",
    "        [24,25,26,27]\n",
    "    ])\n",
    "assert(print_spiral(A) == [0, 1, 2, 3, 7, 11, 15, 19, \n",
    "                           23, 27, 26, 25, 24, 20, 16, \n",
    "                           12, 8, 4, 5, 6, 10, 14, 18, \n",
    "                           22, 21, 17, 13, 9])\n"
   ]
  },
  {
   "cell_type": "markdown",
   "metadata": {},
   "source": [
    "## 5.19 Rotate a 2D Array\n",
    "Write a function that takes as input an nxn 2D array, and rotates the array by 90 degrees clockwise"
   ]
  },
  {
   "cell_type": "code",
   "execution_count": 289,
   "metadata": {
    "collapsed": false
   },
   "outputs": [
    {
     "name": "stdout",
     "output_type": "stream",
     "text": [
      "[[13  2  3  1]\n",
      " [ 5  6  7  8]\n",
      " [ 9 10 11 12]\n",
      " [16 14 15  4]]\n",
      "[[13  9  3  1]\n",
      " [ 5  6  7  2]\n",
      " [15 10 11 12]\n",
      " [16 14  8  4]]\n",
      "[[13  9  5  1]\n",
      " [14  6  7  2]\n",
      " [15 10 11  3]\n",
      " [16 12  8  4]]\n",
      "[[13  9  5  1]\n",
      " [14 10  6  2]\n",
      " [15 11  7  3]\n",
      " [16 12  8  4]]\n",
      "[[13  9  5  1]\n",
      " [14 10  6  2]\n",
      " [15 11  7  3]\n",
      " [16 12  8  4]]\n"
     ]
    }
   ],
   "source": [
    "def rotate_outer(A, i):\n",
    "    A[0,0], A[0,-1], A[-1,-1], A[-1, 0] = A[-1,0], A[0,0], A[0,-1], A[-1,-1]\n",
    "    \n",
    "def rotate_array90(A):\n",
    "    l = len(A[0]) - 1\n",
    "    for i in range(l - 1):\n",
    "        for j in range(l - 1):\n",
    "            A[i,j], A[j,l-i], A[l-i, l-j], A[l-j, i] = A[l-j, i], A[i,j], A[j,l-i], A[l-i, l-j]        \n",
    "            print A\n",
    "    return A\n",
    "\n",
    "A = np.array([\n",
    "        [1,2,3,4],\n",
    "        [5,6,7,8],\n",
    "        [9,10,11,12],\n",
    "        [13,14,15,16]\n",
    "    ])\n",
    "print rotate_array90(A)"
   ]
  }
 ],
 "metadata": {
  "anaconda-cloud": {},
  "kernelspec": {
   "display_name": "Python [gl-env]",
   "language": "python",
   "name": "Python [gl-env]"
  },
  "language_info": {
   "codemirror_mode": {
    "name": "ipython",
    "version": 2
   },
   "file_extension": ".py",
   "mimetype": "text/x-python",
   "name": "python",
   "nbconvert_exporter": "python",
   "pygments_lexer": "ipython2",
   "version": "2.7.12"
  }
 },
 "nbformat": 4,
 "nbformat_minor": 0
}
