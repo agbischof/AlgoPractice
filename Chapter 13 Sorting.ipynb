{
 "cells": [
  {
   "cell_type": "markdown",
   "metadata": {},
   "source": [
    "# Chapter 13 Sorting"
   ]
  },
  {
   "cell_type": "markdown",
   "metadata": {},
   "source": [
    "Naive sorting is O(n^2) and a number of other algorithms run in O(nlogn) time (heapsort, merge sort, and quick sort)\n",
    "\n",
    "* heapsort is in place but not stable\n",
    "* merge sort is stable but not in place\n",
    "* quick sort runs in O(n^2) time in worst-case\n",
    "(stable means equal items appear in their original order)\n"
   ]
  },
  {
   "cell_type": "markdown",
   "metadata": {},
   "source": [
    "**Best Choice for sorting**\n",
    "* A well implemented quicksort is usually the best choice for sorting\n",
    "* For short arrays (10 or fewer) insertion sort is easier to code and faster\n",
    "* For a small number of distinct elements [0..255] count sorting "
   ]
  },
  {
   "cell_type": "markdown",
   "metadata": {},
   "source": [
    "**Sorting boot camp**\n",
    "* \\__lt\\__ can be used to create a compare function to be used by sort libraries\n",
    "* the time complexity of any reasonable library sort is O(nlogn) - most are quicksort"
   ]
  },
  {
   "cell_type": "markdown",
   "metadata": {},
   "source": [
    "**Top Tips for Sorting**\n",
    "2 types\n",
    "\n",
    "1) use sort to make subsequent steps simpler (use a library)\n",
    "\n",
    "2) design a custom sorting routine (use a data structure like a BST, heap, or array indexed by values)"
   ]
  },
  {
   "cell_type": "markdown",
   "metadata": {},
   "source": [
    "* sort() is used to sort a list in place\n",
    "    * stable in place sort, it returns None\n",
    "* sorted() ois used to sort an iterable\n",
    "    * returns a list and leaves original unchanged"
   ]
  },
  {
   "cell_type": "markdown",
   "metadata": {},
   "source": [
    "## 13.1 Compute the Intersection of 2 Sorted Arrays\n",
    "Write a program which takes as input 2 sorted arrays, and returns a new array containing elements that are present in both of the input arrays. The input arrays may have duplicate entries, but the returned array should be free of duplicates. \n",
    "\n",
    "For example the input is [2,3,3,5,5,6,7,7,8,12] and [5,5,6,8,8,9,10,10] your output should be [5,6,8]"
   ]
  },
  {
   "cell_type": "code",
   "execution_count": 2,
   "metadata": {
    "collapsed": true
   },
   "outputs": [],
   "source": [
    "# start at the beginning of each list increase the iterator on whichever list has a smaller value\n",
    "# if the values are equal add that value to the new list\n",
    "# Keep track of the most recently added value and do not add it again\n",
    "\n",
    "def intersect_sorted(a,b):\n",
    "    final_list = []\n",
    "    ai = 0\n",
    "    bi = 0\n",
    "    while ai < len(a) - 1 and bi < len(b) - 1:\n",
    "        #print \"ai: \" + str(ai)\n",
    "        #print \"bi: \" + str(bi)\n",
    "        if a[ai] == b[bi] and a[ai]:\n",
    "            if len(final_list) == 0 or a[ai] != final_list[-1]:\n",
    "                final_list.append(a[ai])\n",
    "            ai += 1\n",
    "            bi += 1\n",
    "        elif a[ai] < b[bi]:\n",
    "            ai += 1\n",
    "        else:\n",
    "            bi += 1\n",
    "    return final_list\n",
    "\n",
    "assert(intersect_sorted([2,3,3,5,5,6,7,7,8,12], [5,5,6,8,8,9,10,10]) == [5,6,8])"
   ]
  },
  {
   "cell_type": "markdown",
   "metadata": {
    "collapsed": true
   },
   "source": [
    "## Merge Two Sorted Arrays\n",
    "Write a program which takes as input two sorted arrays of integers, and updates the first to the combined entries of the 2 arrays in sorted order. Assume the first array has enough empty entries at its end to hold the result."
   ]
  },
  {
   "cell_type": "code",
   "execution_count": 22,
   "metadata": {
    "collapsed": true
   },
   "outputs": [],
   "source": [
    "# plan is to fill from the end of the array, if you can find the non-None length of each array start from that point\n",
    "\n",
    "def merge_sorted_arrays(a,b):\n",
    "    ai = len(a) - 1\n",
    "    bi = len(b) - 1\n",
    "    \n",
    "    while a[ai] is not None or b[bi] is not None:\n",
    "        if a[ai] is None:\n",
    "            ai -= 1\n",
    "        else: \n",
    "            break\n",
    "        if b[bi] is None:\n",
    "            bi -= 1\n",
    "    i = ai + bi + 1\n",
    "    while ai >= 0 and bi >= 0:\n",
    "        if a[ai] >= b[bi]:\n",
    "            a[i] = a[ai]\n",
    "            ai -= 1\n",
    "        else:\n",
    "            a[i] = b[bi]\n",
    "            bi -= 1\n",
    "        i -= 1\n",
    "    if bi > 0:\n",
    "        a[i-bi:i+1] = b[0:bi+1]\n",
    "    return a\n",
    "        \n",
    "l = [1,2,4,6,8,None,None,None,None,None]\n",
    "m = [3,4,5,7]\n",
    "assert(merge_sorted_arrays(l,m) == [1, 2, 3, 4, 4, 5, 6, 7, 8, None])\n",
    "assert(merge_sorted_arrays([2,3,5,7,9,None,None,None,None],[0,1,3,6]) == [0, 1, 2, 3, 3, 5, 6, 7, 9])"
   ]
  },
  {
   "cell_type": "markdown",
   "metadata": {},
   "source": [
    "## 13.5 Render a Calendar\n",
    "\n",
    "Write a program that takes a set of events, and determines the maximum number of events that take place concurrently\n",
    "\n",
    "Each event has a start time and an end time"
   ]
  },
  {
   "cell_type": "code",
   "execution_count": 24,
   "metadata": {
    "collapsed": true
   },
   "outputs": [],
   "source": [
    "# setup start and end points in tuples with the time of start and end\n",
    "# sort by the time\n",
    "# as you move through add 1 for start subtract 1 for end\n",
    "# maintain the max value seen so far at each point\n",
    "\n",
    "import collections\n",
    "# Events are a tuple (start_time, end_time)\n",
    "Event = collections.namedtuple('Event', ('start', 'finish'))\n",
    "\n",
    "# end point is a tuple with is_start = 0 for start time so that it comes first if start and end times overlap\n",
    "End_point = collections.namedtuple('Endpoint', ('time', 'is_start'))\n",
    "\n",
    "def max_calendar_events(A):\n",
    "    \"\"\"\n",
    "    input - A: list of Event tuples\n",
    "    return - max number of overlapping events (integer)\n",
    "    \"\"\"\n",
    "    all_endpoints = []\n",
    "    for event in A:\n",
    "        all_endpoints.append(End_point(event.start, 0))\n",
    "        all_endpoints.append(End_point(event.finish, 1))\n",
    "    all_endpoints.sort()\n",
    "    \n",
    "    max = 0\n",
    "    active = 0\n",
    "    for point in all_endpoints:\n",
    "        if point.is_start == 0:\n",
    "            active += 1\n",
    "        else:\n",
    "            active -= 1\n",
    "        if active > max:\n",
    "            max = active\n",
    "            \n",
    "    return max\n",
    "    \n",
    "assert(max_calendar_events([Event(0,1),Event(0,2),Event(5,7)]) == 2)\n",
    "assert(max_calendar_events([Event(1,5), Event(14,15), Event(2,7), Event(4,5), \n",
    "                     Event(6,10), Event(8,9), Event(9,17), Event(11,13), Event(12,15)]) == 3)\n",
    "assert(max_calendar_events([Event(1,5), Event(14,15), Event(2,7), Event(4,5), Event(15,16), \n",
    "                     Event(6,10), Event(8,9), Event(9,17), Event(11,13), Event(12,15)]) == 4)"
   ]
  },
  {
   "cell_type": "code",
   "execution_count": null,
   "metadata": {
    "collapsed": true
   },
   "outputs": [],
   "source": []
  }
 ],
 "metadata": {
  "kernelspec": {
   "display_name": "Python [Root]",
   "language": "python",
   "name": "Python [Root]"
  },
  "language_info": {
   "codemirror_mode": {
    "name": "ipython",
    "version": 2
   },
   "file_extension": ".py",
   "mimetype": "text/x-python",
   "name": "python",
   "nbconvert_exporter": "python",
   "pygments_lexer": "ipython2",
   "version": "2.7.12"
  }
 },
 "nbformat": 4,
 "nbformat_minor": 2
}
