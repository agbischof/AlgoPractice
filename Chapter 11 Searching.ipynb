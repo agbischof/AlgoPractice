{
 "cells": [
  {
   "cell_type": "markdown",
   "metadata": {},
   "source": [
    "# Chapter 11: Searching"
   ]
  },
  {
   "cell_type": "markdown",
   "metadata": {},
   "source": [
    "This chapter focuses on static data stored in a sorted order in an array."
   ]
  },
  {
   "cell_type": "markdown",
   "metadata": {},
   "source": [
    "**Binary Search**\n",
    "* O(n) time complexity\n",
    "* requires a sorted array which takes O(nlogn)"
   ]
  },
  {
   "cell_type": "markdown",
   "metadata": {},
   "source": [
    "**Library**\n",
    "bisect\n",
    "* bisect.bisect_left(a, x) returns the first element in a that is not less than x\n",
    "* bisect.bisect_right(a, x) returns the first element in a that is greater than x"
   ]
  },
  {
   "cell_type": "code",
   "execution_count": 1,
   "metadata": {
    "collapsed": true
   },
   "outputs": [],
   "source": [
    "def binary_search(a,k):\n",
    "    start, end = 0, len(a) - 1\n",
    "    while start <= end:\n",
    "        mid = (end - start) / 2 + start\n",
    "        if a[mid] == k:\n",
    "            return mid\n",
    "        elif a[mid] < k:\n",
    "            start = mid + 1\n",
    "        else:\n",
    "            end = mid - 1\n",
    "    return -1\n",
    "\n",
    "assert(binary_search([0,1,2,3,4,5,6], 5) == 5)\n",
    "assert(binary_search([0,1,2,3,4,5,6], 6) == 6)\n",
    "assert(binary_search([0,1,2,3,4,5,6], 0) == 0)\n",
    "assert(binary_search([0,1,2,3,4,5,6], 3) == 3)\n",
    "assert(binary_search([0,1,2,3,4,5,6], 7) == -1)\n",
    "\n",
    "assert(binary_search([0,1,2,3,4,5,6,7], 5) == 5)\n",
    "assert(binary_search([0,1,2,3,4,5,6,7], 6) == 6)\n",
    "assert(binary_search([0,1,2,3,4,5,6,7], 0) == 0)\n",
    "assert(binary_search([0,1,2,3,4,5,6,7], 3) == 3)\n",
    "assert(binary_search([0,1,2,3,4,5,6,7], 8) == -1)"
   ]
  },
  {
   "cell_type": "markdown",
   "metadata": {},
   "source": [
    "## 11.1 Search a sorted Array for first Occurrence of k\n",
    "Write a method that takes a sorted array and a key and returns the index of the _first_ occurrence of that key in the array. For example, when applied to the array [-14,-10,2,108,108,243,285,285,285,401] you should get 3 for 108 and 6 for 285"
   ]
  },
  {
   "cell_type": "code",
   "execution_count": 2,
   "metadata": {
    "collapsed": true
   },
   "outputs": [],
   "source": [
    "def binary_search_first_occurance(a,k):\n",
    "    start, end = 0, len(a) - 1\n",
    "    first_occurance = -1\n",
    "    while start <= end:\n",
    "        mid = (end - start) / 2 + start\n",
    "        if a[mid] == k:\n",
    "            first_occurance = mid\n",
    "            end = mid - 1\n",
    "        elif a[mid] < k:\n",
    "            start = mid + 1\n",
    "        else:\n",
    "            end = mid -1\n",
    "    return first_occurance\n",
    "\n",
    "assert(binary_search_first_occurance([-14,-10,2,108,108,243,285,285,285,401], 108) == 3)\n",
    "assert(binary_search_first_occurance([-14,-10,2,108,108,243,285,285,285,401], 285) == 6)\n",
    "assert(binary_search_first_occurance([-14,-10,2,108,108,243,285,285,285,401], 500) == -1)\n",
    "\n",
    "import bisect\n",
    "def binary_first_occurance_bisect(a,k):\n",
    "    return bisect.bisect_left(a,k)\n",
    "\n",
    "assert(binary_first_occurance_bisect([-14,-10,2,108,108,243,285,285,285,401], 108) == 3)\n",
    "assert(binary_first_occurance_bisect([-14,-10,2,108,108,243,285,285,285,401], 285) == 6)\n",
    "assert(binary_first_occurance_bisect([-14,-10,2,108,108,243,285,285,285,401], 500) == 10)"
   ]
  },
  {
   "cell_type": "markdown",
   "metadata": {},
   "source": [
    "## 11.3 Search a cyclically sorted array\n",
    "A cyclically sorted arry can be made sorted by shifting elements. Design an O(log n) algorithm for finding the position of the smallest element in a cyclically sorted array. Assume all elements are distinct. \n",
    "\n",
    "For example given [378,478,550,631,103,203,220,234,279,368] return 4."
   ]
  },
  {
   "cell_type": "code",
   "execution_count": 6,
   "metadata": {
    "collapsed": true
   },
   "outputs": [],
   "source": [
    "def cyclic_sorted_array_min(a):\n",
    "    start, end, mid = 0, len(a) - 1, (len(a) - 1) / 2\n",
    "    min_index = end / 2\n",
    "    \n",
    "    while start < end:\n",
    "        mid = (end - start) / 2 + start\n",
    "        if a[mid] > a[end]:\n",
    "            start = mid + 1\n",
    "        else:\n",
    "            end = mid\n",
    "    return start\n",
    "\n",
    "assert(cyclic_sorted_array_min([378,478,550,631,103,203,220,234,279,368]) == 4)       \n",
    "assert(cyclic_sorted_array_min([103,203,220,234,279,368,378,478,550,631]) == 0)\n",
    "assert(cyclic_sorted_array_min([103,203,220,234,279,368,378,478,550,100]) == 9)       "
   ]
  },
  {
   "cell_type": "markdown",
   "metadata": {},
   "source": [
    "## 11.4 Compute the Integer Square Root\n",
    "Write a program which takes a nonnegative integer and returns the largest integer whose square is less than or equal to the given integer. \n",
    "\n",
    "For example for 16 = 4, 300 = 17"
   ]
  },
  {
   "cell_type": "code",
   "execution_count": 22,
   "metadata": {
    "collapsed": true
   },
   "outputs": [],
   "source": [
    "# basic idea: create an array from 0 to value / 2\n",
    "# use binary search to find the bisect left where x^2 < value\n",
    "import bisect\n",
    "def int_square_root_bisect(value):\n",
    "    options = range(1,value/2)\n",
    "    return options[bisect.bisect_right([comp_square(s) for s in options], value) - 1]\n",
    "    \n",
    "def comp_square(x): \n",
    "    return x*x\n",
    "\n",
    "assert(int_square_root_bisect(16) == 4)\n",
    "assert(int_square_root_bisect(300) == 17)\n",
    "\n",
    "\n",
    "def int_square_root(value):\n",
    "    start, end = 1, value / 2 + 1\n",
    "    while start <= end:\n",
    "        mid = (end - start) / 2 + start\n",
    "        if mid ** 2 == value:\n",
    "            return mid\n",
    "        elif mid ** 2 > value:\n",
    "            end = mid - 1\n",
    "        else:\n",
    "            start = mid + 1\n",
    "    if mid**2 > value:\n",
    "        return mid - 1\n",
    "    return mid\n",
    "\n",
    "assert(int_square_root(16) == 4)\n",
    "assert(int_square_root(300) == 17)\n",
    "assert(int_square_root(4) == 2)"
   ]
  },
  {
   "cell_type": "markdown",
   "metadata": {},
   "source": [
    "## 11.8 Find the kth Largest Element\n",
    "Design an algorithm for computing the kth largest element in an array. Assume entries are distinct"
   ]
  },
  {
   "cell_type": "code",
   "execution_count": 5,
   "metadata": {},
   "outputs": [],
   "source": [
    "def kth_largest(a,k):\n",
    "    start, end = 0, len(a) - 1\n",
    "    pivot = -1\n",
    "    while pivot != k - 1:\n",
    "        pivot = start\n",
    "        this_end = end\n",
    "        i = 1\n",
    "        while this_end > pivot:\n",
    "            if a[i] < a[pivot]:\n",
    "                a[pivot], a[i] = a[i], a[pivot]\n",
    "                pivot = i\n",
    "                i += 1\n",
    "            else:\n",
    "                a[i], a[this_end] = a[this_end], a[i]\n",
    "                this_end -= 1\n",
    "        if pivot < k - 1:\n",
    "            start = pivot + 1\n",
    "        else:\n",
    "            end = pivot - 1\n",
    "    return a[pivot]\n",
    "\n",
    "assert(kth_largest([4,3,6,1,2,7,8,0,5,9], 8) == 7)\n",
    "assert(kth_largest([4,3,6,1,2,7,8,0,5,9], 1) == 0)\n",
    "assert(kth_largest([4,3,6,1,2,7,8,0,5,9], 10) == 9)"
   ]
  },
  {
   "cell_type": "markdown",
   "metadata": {},
   "source": [
    "## Find the Missing IP Address\n",
    "The storage capacity of hard drives dwarfs that of RAM. This can lead to interesting space-time trade-offs. \n",
    "\n",
    "Suppose you were given a file containing roughly one billion IP addresses, each of which is a 32-bit quantity. How would you programmatically find an IP address that is not in the file? Assume you have unlimited drive space but only a few megabytes of RAM at your displsal "
   ]
  }
 ],
 "metadata": {
  "kernelspec": {
   "display_name": "Python 2",
   "language": "python",
   "name": "python2"
  },
  "language_info": {
   "codemirror_mode": {
    "name": "ipython",
    "version": 2
   },
   "file_extension": ".py",
   "mimetype": "text/x-python",
   "name": "python",
   "nbconvert_exporter": "python",
   "pygments_lexer": "ipython2",
   "version": "2.7.13"
  }
 },
 "nbformat": 4,
 "nbformat_minor": 2
}
