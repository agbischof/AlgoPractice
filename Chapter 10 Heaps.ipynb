{
 "cells": [
  {
   "cell_type": "markdown",
   "metadata": {},
   "source": [
    "# Chapter 10: Heaps"
   ]
  },
  {
   "cell_type": "markdown",
   "metadata": {},
   "source": [
    "A heap is a specialized binary tree, it is a complete binary tree where the key at each node is at least as great as the keys of its children. A heap is sometimes called a priority queue\n",
    "\n",
    "\n",
    "* A max-head supports O(log n) insertions, O(1) time lookup for the max element and O(log n) deletion of the max element, searching for arbitary keys has O(n) time complexity\n",
    "    * a max heap can be stored as an array; the children of the node at index i are at indicies 2i+1 and 2i + 2\n",
    "    * extract-max deletes and returns the max element\n",
    "\n",
    "\n",
    "* a min-heap is similar except with the min as the root"
   ]
  },
  {
   "cell_type": "markdown",
   "metadata": {},
   "source": [
    "**Top Tips**\n",
    "use a heap when all you care about is the largest of smallest elements, and you do not need to support fast lookup, elete or serach operations for arbitrary elements\n",
    "\n",
    "A heap is a good choice when you need to compute the k largest or k smallest elements in a collection. "
   ]
  },
  {
   "cell_type": "markdown",
   "metadata": {},
   "source": [
    "**Libraries**\n",
    "heapq - _ONLY PROVIDES MIN-HEAP FUNCTIONALITY_ -> insert the negatives to get a max-heap\n",
    "* heapq.heapify(L), which transforms the elemnets in L into a heap in-place\n",
    "* heapq.nlargest(k, L) and heapq.nsmallest(k, L) returns the k largest (smallest) elements in L\n",
    "* heapq.heappush(h, e), which pushes a new element on the heap\n",
    "* heapq.heappop(h) which pops the smallest elemente from the heap\n",
    "* heapq.heappushpop(h, a), which pushes a on the heap and then pops and returns the smallest element \n",
    "* e = h[0], which returns the smallest element on the heap without poping it\n",
    "\n",
    "for objects implement --lt()--"
   ]
  },
  {
   "cell_type": "markdown",
   "metadata": {},
   "source": [
    "## 10.1 Merge Sorted Files\n",
    "Write a program that takes as input a set of sorted sequences and computes the union of these sequences as a sorted sequence. For example, if the input is [3,5,7], [0,6] and [0,6,28], then the output is [0,0,3,5,6,6,7,28]"
   ]
  },
  {
   "cell_type": "code",
   "execution_count": 34,
   "metadata": {},
   "outputs": [
    {
     "data": {
      "text/plain": [
       "[0, 0, 3, 5, 6, 6, 7, 28]"
      ]
     },
     "execution_count": 34,
     "metadata": {},
     "output_type": "execute_result"
    }
   ],
   "source": [
    "import heapq\n",
    "\n",
    "def merge_sorted_input(list_set):\n",
    "    min_heap = []\n",
    "    sorted_array_iter = [iter(x) for x in list_set]\n",
    "\n",
    "    for i, it in enumerate(sorted_array_iter):\n",
    "        first_element = next(it, None)\n",
    "        if first_element is not None:\n",
    "            heapq.heappush(min_heap, (first_element, i))\n",
    "    \n",
    "    result = []\n",
    "    while min_heap:\n",
    "        smallest_entry, smallest_array_i = heapq.heappop(min_heap)\n",
    "        smallest_array_iter = sorted_array_iter[smallest_array_i]\n",
    "        result.append(smallest_entry)\n",
    "        next_element = next(smallest_array_iter, None)\n",
    "        if next_element is not None:\n",
    "            heapq.heappush(min_heap, (next_element, smallest_array_i))\n",
    "    \n",
    "    return result \n",
    "        \n",
    "merge_sorted_input([[3,5,7], [0,6], [0,6,28]])"
   ]
  },
  {
   "cell_type": "markdown",
   "metadata": {},
   "source": [
    "## Sort an Increasing-Decreasing Array\n",
    "Design an efficient algorithm for sorting a k-increasing-decreasing array"
   ]
  },
  {
   "cell_type": "code",
   "execution_count": 46,
   "metadata": {},
   "outputs": [
    {
     "data": {
      "text/plain": [
       "[57, 131, 190, 221, 294, 339, 418, 442, 452, 493]"
      ]
     },
     "execution_count": 46,
     "metadata": {},
     "output_type": "execute_result"
    }
   ],
   "source": [
    "def sort_inc_dec_array(a):\n",
    "    sorted_arrays = []\n",
    "    start = 0\n",
    "    if a[1] > a[0]:\n",
    "        increasing = True\n",
    "    else:\n",
    "        increasing = False\n",
    "    \n",
    "    for i in range(1, len(a)):\n",
    "        if increasing and a[i] < a[i-1]:\n",
    "            sorted_arrays.append(a[start:i])\n",
    "            start = i\n",
    "            increasing = False\n",
    "        elif not increasing and a[i] > a[i - 1]:\n",
    "            sorted_arrays.append(a[start:i][::-1])\n",
    "            start = i\n",
    "            increasing = True\n",
    "    if increasing:\n",
    "        sorted_arrays.append(a[start:])\n",
    "    else: \n",
    "        sorted_arrays.append(a[start:][::-1])\n",
    "    return merge_sorted_input(sorted_arrays)\n",
    "\n",
    "sort_inc_dec_array([57,131,493,294,221,339,418,452,442,190])\n",
    "            \n",
    "        "
   ]
  },
  {
   "cell_type": "markdown",
   "metadata": {},
   "source": [
    "## Compute the k closest stars\n",
    "The coordinates of stars are stored in a file with (0,0,0) being earth. Write a program to compute the k stars which are closest to Earth"
   ]
  },
  {
   "cell_type": "code",
   "execution_count": 75,
   "metadata": {},
   "outputs": [
    {
     "name": "stdout",
     "output_type": "stream",
     "text": [
      "[20.784609690826528, 8.660254037844387, 1.0, 1.4142135623730951, 1.7320508075688772, 3.7416573867739413, 6.928203230275509, 2.449489742783178, 1.7320508075688772, 10.392304845413264]\n"
     ]
    },
    {
     "data": {
      "text/plain": [
       "[2.449489742783178,\n",
       " 1.7320508075688772,\n",
       " 1.0,\n",
       " 1.4142135623730951,\n",
       " 1.7320508075688772]"
      ]
     },
     "execution_count": 75,
     "metadata": {},
     "output_type": "execute_result"
    }
   ],
   "source": [
    "# General idea is maintain a max heap as well as a counter. First fill the max-heap with the first k stars\n",
    "# for the rest compare the distance with the max in the heap and kick out the max if the current is greater and add the current\n",
    "import math\n",
    "def dist(coordinate):\n",
    "    return math.sqrt(coordinate[0]**2 + coordinate[1]**2 + coordinate[2]**2)\n",
    "\n",
    "assert(dist([2,2,1]) == 3)\n",
    "\n",
    "def k_closest_stars(stars, k):\n",
    "    closest_stars = []\n",
    "    for i in range(k):\n",
    "        heapq.heappush(closest_stars, -dist(stars[i]))\n",
    "    \n",
    "    for i in range(k, len(stars)):\n",
    "        furthest = -closest_stars[0]\n",
    "        next_element = dist(stars[i])\n",
    "        if next_element < furthest:\n",
    "            heapq.heappop(closest_stars)\n",
    "            heapq.heappush(closest_stars, -next_element)\n",
    "    \n",
    "    return map(lambda x: -x, closest_stars)\n",
    "\n",
    "stars = [[12,12,12],[5,5,5],[0,1,0],[0,1,1],[1,1,1],[3,2,1],[4,4,4],[1,2,1],[1,1,1],[6,6,6]]\n",
    "print map(lambda x: dist(x), stars)\n",
    "k_closest_stars(stars, 5)"
   ]
  },
  {
   "cell_type": "markdown",
   "metadata": {},
   "source": [
    "## 10.3 Sort an Almost Sorted Array\n",
    "Write a program which takes as input a very long sequence of numbers and prints the numbers in sorted order. Each number is at most k away from its correctly sorted position. For example k = 2 and [3,-1,2,6,4,5,8]"
   ]
  },
  {
   "cell_type": "code",
   "execution_count": 92,
   "metadata": {},
   "outputs": [],
   "source": [
    "# basic idea build a min-heap of size k+1 and each round remove and print min and add another element\n",
    "\n",
    "def sort_almost_sorted(a,k):\n",
    "    min_heap = []\n",
    "    for i in range(k+2):\n",
    "        heapq.heappush(min_heap, a[i])\n",
    "    \n",
    "    new_i = 0\n",
    "    while min_heap:\n",
    "        next_ele = heapq.heappop(min_heap)\n",
    "        a[new_i] = next_ele\n",
    "        new_i += 1\n",
    "        i += 1\n",
    "        if i < len(a):\n",
    "            heapq.heappush(min_heap, a[i])\n",
    "            \n",
    "    return a \n",
    "\n",
    "assert(sort_almost_sorted([3,-1,2,6,4,5,8],2) == [-1, 2, 3, 4, 5, 6, 8])"
   ]
  },
  {
   "cell_type": "code",
   "execution_count": null,
   "metadata": {
    "collapsed": true
   },
   "outputs": [],
   "source": []
  }
 ],
 "metadata": {
  "kernelspec": {
   "display_name": "Python 2",
   "language": "python",
   "name": "python2"
  },
  "language_info": {
   "codemirror_mode": {
    "name": "ipython",
    "version": 2
   },
   "file_extension": ".py",
   "mimetype": "text/x-python",
   "name": "python",
   "nbconvert_exporter": "python",
   "pygments_lexer": "ipython2",
   "version": "2.7.13"
  }
 },
 "nbformat": 4,
 "nbformat_minor": 2
}
